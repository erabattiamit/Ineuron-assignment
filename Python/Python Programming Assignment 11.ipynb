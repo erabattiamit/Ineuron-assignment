{
 "cells": [
  {
   "cell_type": "markdown",
   "metadata": {},
   "source": [
    "# Python Basic Programming Assignment 11"
   ]
  },
  {
   "cell_type": "markdown",
   "metadata": {},
   "source": [
    "## 1. Write a Python program to find words which are greater than given length k?"
   ]
  },
  {
   "cell_type": "code",
   "execution_count": 8,
   "metadata": {},
   "outputs": [],
   "source": [
    "def wordsGreaterK():\n",
    "    string=input(\"Enter the string:\")\n",
    "    k=int(input(\"Enter the value to find words greater than it:\"))\n",
    "    string=string.split()\n",
    "    listWords=[]\n",
    "    for i in string:\n",
    "        if len(i)> k:\n",
    "            listWords.append(i)\n",
    "    print(f\"The words greater than length {k} are {listWords}\")"
   ]
  },
  {
   "cell_type": "code",
   "execution_count": 10,
   "metadata": {},
   "outputs": [
    {
     "name": "stdout",
     "output_type": "stream",
     "text": [
      "Enter the string:Write a Python program to find words which are greater than given length k?\n",
      "Enter the value to find words greater than it:4\n",
      "The words greater than length 4 are ['Write', 'Python', 'program', 'words', 'which', 'greater', 'given', 'length']\n"
     ]
    }
   ],
   "source": [
    "wordsGreaterK()"
   ]
  },
  {
   "cell_type": "markdown",
   "metadata": {},
   "source": [
    "## 2. Write a Python program for removing i-th character from a string ?"
   ]
  },
  {
   "cell_type": "code",
   "execution_count": 6,
   "metadata": {},
   "outputs": [],
   "source": [
    "def remove_ithCharacter():\n",
    "    string=input(\"Enter the string:\")\n",
    "    k=int(input(\"Enter the i_th position to remove from string:\"))\n",
    "    newString = ''\n",
    "    for i in range(len(string)):\n",
    "        if i != k:\n",
    "            newString = newString + string[i]\n",
    "    print(newString)  "
   ]
  },
  {
   "cell_type": "code",
   "execution_count": 7,
   "metadata": {},
   "outputs": [
    {
     "name": "stdout",
     "output_type": "stream",
     "text": [
      "Enter the string:jai1hoo\n",
      "Enter the i_th position to remove from string:3\n",
      "jaihoo\n"
     ]
    }
   ],
   "source": [
    "remove_ithCharacter()"
   ]
  },
  {
   "cell_type": "markdown",
   "metadata": {},
   "source": [
    "## 3. Write a Python program to split and join a string ?"
   ]
  },
  {
   "cell_type": "code",
   "execution_count": 12,
   "metadata": {},
   "outputs": [],
   "source": [
    "def splitJoinString():\n",
    "    string = input('Enter the string: ')\n",
    "    print(f\"\\nSplit String: {string.split(' ')}\") #splitting based on \" \" {single space}\n",
    "    print(f\"\\nJoin String: {' '.join(string.split(' '))}\")\n"
   ]
  },
  {
   "cell_type": "code",
   "execution_count": 13,
   "metadata": {},
   "outputs": [
    {
     "name": "stdout",
     "output_type": "stream",
     "text": [
      "Enter the string: Write a Python program to split and join a string \n",
      "\n",
      "Split String: ['Write', 'a', 'Python', 'program', 'to', 'split', 'and', 'join', 'a', 'string', '']\n",
      "\n",
      "Join String: Write a Python program to split and join a string \n"
     ]
    }
   ],
   "source": [
    "splitJoinString()"
   ]
  },
  {
   "cell_type": "markdown",
   "metadata": {},
   "source": [
    "## 4. Write a Python to check if a given string is binary string or not?"
   ]
  },
  {
   "cell_type": "code",
   "execution_count": 26,
   "metadata": {},
   "outputs": [],
   "source": [
    "def binaryStringChecker():\n",
    "    string=input(\"Enter the string:\")\n",
    "    binaryNo={\"1\",\"0\"}\n",
    "    char=set(string)\n",
    "    if (char==binaryNo or char =={\"0\"} or char == {\"1\"}):\n",
    "        print(\"\\nThe given string is a binary string\")\n",
    "    else:\n",
    "        print(\"\\nThe given string is not a binary string\")"
   ]
  },
  {
   "cell_type": "code",
   "execution_count": 27,
   "metadata": {},
   "outputs": [
    {
     "name": "stdout",
     "output_type": "stream",
     "text": [
      "Enter the string:101010\n",
      "\n",
      "The given string is a binary string\n"
     ]
    }
   ],
   "source": [
    "binaryStringChecker()"
   ]
  },
  {
   "cell_type": "code",
   "execution_count": 28,
   "metadata": {},
   "outputs": [
    {
     "name": "stdout",
     "output_type": "stream",
     "text": [
      "Enter the string:jaihoo\n",
      "\n",
      "The given string is not a binary string\n"
     ]
    }
   ],
   "source": [
    "binaryStringChecker()"
   ]
  },
  {
   "cell_type": "markdown",
   "metadata": {},
   "source": [
    "## 5. Write a Python program to find uncommon words from two Strings?"
   ]
  },
  {
   "cell_type": "code",
   "execution_count": 34,
   "metadata": {},
   "outputs": [],
   "source": [
    "def uncommonWords():\n",
    "    string1=input(\"\\nEnter the string:\")\n",
    "    string2=input(\"\\nEnter the string:\")\n",
    "    words1 = set(string1.split())\n",
    "    words2 = set(string2.split())\n",
    "    uncommonWords = words1.symmetric_difference(words2)\n",
    "    print(f\"\\nThe list of uncommon words from 2 different string {list(uncommonWords)}\")"
   ]
  },
  {
   "cell_type": "code",
   "execution_count": 35,
   "metadata": {},
   "outputs": [
    {
     "name": "stdout",
     "output_type": "stream",
     "text": [
      "\n",
      "Enter the string:Write a Python program to find uncommon words\n",
      "\n",
      "Enter the string:Write a Python program to find uncommon words from two Strings?\n",
      "\n",
      "The list of uncommon words from 2 different string ['two', 'Strings?', 'from']\n"
     ]
    }
   ],
   "source": [
    "uncommonWords()"
   ]
  },
  {
   "cell_type": "markdown",
   "metadata": {},
   "source": [
    "## 6. Write a Python to find all duplicate characters in string?"
   ]
  },
  {
   "cell_type": "code",
   "execution_count": 36,
   "metadata": {},
   "outputs": [],
   "source": [
    "def duplicateChars():\n",
    "    string = input('Enter the string: ')\n",
    "    non_duplicate_list = []\n",
    "    duplicate_list = []\n",
    "    \n",
    "    # iterating the string\n",
    "    for i in string:\n",
    "        # adding characters which are not repeating or not present in non_duplicate_list\n",
    "        if i not in non_duplicate_list:\n",
    "            non_duplicate_list.append(i)\n",
    "            \n",
    "        #If the characters are repeating added in duplicated list\n",
    "        else:\n",
    "            duplicate_list.append(i)\n",
    "    print(f'Duplicate characters are: {list(set(duplicate_list))}')\n",
    "        "
   ]
  },
  {
   "cell_type": "code",
   "execution_count": 37,
   "metadata": {},
   "outputs": [
    {
     "name": "stdout",
     "output_type": "stream",
     "text": [
      "Enter the string: jaihoooh\n",
      "Duplicate characters are: ['o', 'h']\n"
     ]
    }
   ],
   "source": [
    "duplicateChars()"
   ]
  },
  {
   "cell_type": "markdown",
   "metadata": {},
   "source": [
    "## 7. Write a Python Program to check if a string contains any special character?"
   ]
  },
  {
   "cell_type": "code",
   "execution_count": 40,
   "metadata": {},
   "outputs": [],
   "source": [
    "def checkSpecialChar():\n",
    "    speciallChars = '[@_!#$%^&*()<>?/\\|}{~:]'\n",
    "    string = input('Enter the string: ')\n",
    "    count = 0\n",
    "    char_list = []\n",
    "    \n",
    "    #iterating the string\n",
    "    for i in string:\n",
    "        # if their is special character it will be added to char_list and to keep count of special char\n",
    "        if i in speciallChars:\n",
    "            char_list.append(i)\n",
    "            count = count+1\n",
    "    print(f'There are {count} Speical Characters in {string} which are {char_list}')"
   ]
  },
  {
   "cell_type": "code",
   "execution_count": 41,
   "metadata": {},
   "outputs": [
    {
     "name": "stdout",
     "output_type": "stream",
     "text": [
      "Enter the string: jai@hooooo!!!!!\n",
      "There are 6 Speical Characters in jai@hooooo!!!!! which are ['@', '!', '!', '!', '!', '!']\n"
     ]
    }
   ],
   "source": [
    "checkSpecialChar()"
   ]
  }
 ],
 "metadata": {
  "kernelspec": {
   "display_name": "Python 3",
   "language": "python",
   "name": "python3"
  }
 },
 "nbformat": 4,
 "nbformat_minor": 4
}
