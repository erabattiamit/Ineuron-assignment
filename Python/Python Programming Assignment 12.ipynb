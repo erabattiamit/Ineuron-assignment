{
 "cells": [
  {
   "cell_type": "markdown",
   "metadata": {},
   "source": [
    "# Python Basic Programming Assignment 12"
   ]
  },
  {
   "cell_type": "markdown",
   "metadata": {},
   "source": [
    "## 1.Write a Python program to Extract Unique values dictionary values?"
   ]
  },
  {
   "cell_type": "code",
   "execution_count": 8,
   "metadata": {},
   "outputs": [],
   "source": [
    "def uniqueDictionaryValues():\n",
    "    dictionary = {}\n",
    "    while True:\n",
    "        key = input(\"Enter the key (or enter 'q' to quit): \")\n",
    "        if key == 'q':\n",
    "            break\n",
    "\n",
    "        value = input(\"Enter the value: \")\n",
    "        dictionary[key] = value\n",
    "\n",
    "    print(dictionary)\n",
    "    print(\"\\n\")\n",
    "    print(dictionary.values())\n",
    "    print(f'\\nUnique Values: {list(set(dictionary.values()))}')"
   ]
  },
  {
   "cell_type": "code",
   "execution_count": 9,
   "metadata": {},
   "outputs": [
    {
     "name": "stdout",
     "output_type": "stream",
     "text": [
      "Enter the key (or enter 'q' to quit): 1\n",
      "Enter the value: abc\n",
      "Enter the key (or enter 'q' to quit): 2\n",
      "Enter the value: def\n",
      "Enter the key (or enter 'q' to quit): 3\n",
      "Enter the value: abc\n",
      "Enter the key (or enter 'q' to quit): q\n",
      "{'1': 'abc', '2': 'def', '3': 'abc'}\n",
      "\n",
      "\n",
      "dict_values(['abc', 'def', 'abc'])\n",
      "\n",
      "Unique Values: ['abc', 'def']\n"
     ]
    }
   ],
   "source": [
    "uniqueDictionaryValues()"
   ]
  },
  {
   "cell_type": "markdown",
   "metadata": {},
   "source": [
    "## 2.Write a Python program to find the sum of all items in a dictionary?"
   ]
  },
  {
   "cell_type": "code",
   "execution_count": 14,
   "metadata": {},
   "outputs": [],
   "source": [
    "def sumDictionaryValues():\n",
    "    dictionary = {}\n",
    "    while True:\n",
    "        key = input(\"Enter the key (or enter 'q' to quit): \")\n",
    "        if key == 'q':\n",
    "            break\n",
    "\n",
    "        value = int(input(\"Enter the value: \"))\n",
    "        dictionary[key] = value\n",
    "\n",
    "    print(f\"\\n The given dictionary is {dictionary}\")\n",
    "    print(\"\\nSum of All items: \",sum(dictionary.values()))"
   ]
  },
  {
   "cell_type": "code",
   "execution_count": 15,
   "metadata": {},
   "outputs": [
    {
     "name": "stdout",
     "output_type": "stream",
     "text": [
      "Enter the key (or enter 'q' to quit): a\n",
      "Enter the value: 10\n",
      "Enter the key (or enter 'q' to quit): b\n",
      "Enter the value: 20\n",
      "Enter the key (or enter 'q' to quit): c\n",
      "Enter the value: 30\n",
      "Enter the key (or enter 'q' to quit): q\n",
      "\n",
      " The given dictionary is {'a': 10, 'b': 20, 'c': 30}\n",
      "\n",
      "Sum of All items:  60\n"
     ]
    }
   ],
   "source": [
    "sumDictionaryValues()"
   ]
  },
  {
   "cell_type": "markdown",
   "metadata": {},
   "source": [
    "## 3.Write a Python program to Merging two Dictionaries?"
   ]
  },
  {
   "cell_type": "code",
   "execution_count": 2,
   "metadata": {},
   "outputs": [
    {
     "name": "stdout",
     "output_type": "stream",
     "text": [
      "{'Country': ['India', 'USA', 'Russia', 'Japan'], 'Capital': ['Delhi', 'Washington DC', 'Mosscow', 'Tokyo']}\n"
     ]
    }
   ],
   "source": [
    "dict1={\"Country\":[\"India\",\"USA\",\"Russia\",\"Japan\"]}\n",
    "dict2={\"Capital\":[\"Delhi\",\"Washington DC\",\"Mosscow\",\"Tokyo\"]}\n",
    "\n",
    "dict1.update(dict2)\n",
    "print(dict1)"
   ]
  },
  {
   "cell_type": "markdown",
   "metadata": {},
   "source": [
    "## 4.Write a Python program to convert key-values list to flat dictionary?"
   ]
  },
  {
   "cell_type": "code",
   "execution_count": 3,
   "metadata": {},
   "outputs": [
    {
     "name": "stdout",
     "output_type": "stream",
     "text": [
      "{'India': ['Delhi'], 'Russia': ['Mosscow'], 'USA': ['Washington DC']}\n"
     ]
    }
   ],
   "source": [
    "list1=[(\"India\",\"Delhi\"),(\"Russia\",\"Mosscow\"),(\"USA\",\"Washington DC\")]\n",
    "\n",
    "flatDict={}\n",
    "for key,value in list1:\n",
    "    flatDict[key]=[value]\n",
    "print(flatDict)"
   ]
  },
  {
   "cell_type": "markdown",
   "metadata": {},
   "source": [
    "## 5.Write a Python program to insertion at the beginning in OrderedDict?"
   ]
  },
  {
   "cell_type": "code",
   "execution_count": 13,
   "metadata": {},
   "outputs": [
    {
     "name": "stdout",
     "output_type": "stream",
     "text": [
      "OrderedDict()\n",
      "creating ordered dict from dict OrderedDict([('banana', 'Yellow'), ('Orange', 'Orange'), ('apple', 'Red')])\n",
      "Moving apple at beginning OrderedDict([('apple', 'Red'), ('banana', 'Yellow'), ('Orange', 'Orange')])\n"
     ]
    }
   ],
   "source": [
    "from collections import OrderedDict\n",
    "\n",
    "# creating a simple dict\n",
    "dict1 = {'banana': \"Yellow\", 'Orange': \"Orange\",\"apple\":\"Red\"}\n",
    "\n",
    "# creating empty ordered dict\n",
    "ordered_dict = OrderedDict()\n",
    "print(ordered_dict)\n",
    "\n",
    "# creating ordered dict from dict\n",
    "ordered_dict = OrderedDict(dict1)\n",
    "print(f\"creating ordered dict from dict {ordered_dict}\")\n",
    "\n",
    "#Moving apple at beginning\n",
    "ordered_dict.move_to_end('apple', False)\n",
    "print(f'Moving apple at beginning {ordered_dict}')"
   ]
  },
  {
   "cell_type": "markdown",
   "metadata": {},
   "source": [
    "## 6.Write a Python program to check order of character in string using OrderedDict()?"
   ]
  },
  {
   "cell_type": "code",
   "execution_count": 44,
   "metadata": {},
   "outputs": [],
   "source": [
    "from collections import OrderedDict\n",
    "\n",
    "def check_order_of_characters():\n",
    "    string=input(\"Enter the string:\")\n",
    "    # Create an ordered dictionary from the input string\n",
    "    char_order = OrderedDict.fromkeys(string)\n",
    "\n",
    "    # Iterate over the ordered dictionary and check if the next character\n",
    "    # in the string appears after the current character\n",
    "    for i, c in enumerate(char_order.keys()):\n",
    "        if i < len(char_order) - 1 and c > list(char_order.keys())[i + 1]:\n",
    "            return False\n",
    "\n",
    "    return True"
   ]
  },
  {
   "cell_type": "code",
   "execution_count": 45,
   "metadata": {},
   "outputs": [
    {
     "name": "stdout",
     "output_type": "stream",
     "text": [
      "Enter the string:abcdef\n"
     ]
    },
    {
     "data": {
      "text/plain": [
       "True"
      ]
     },
     "execution_count": 45,
     "metadata": {},
     "output_type": "execute_result"
    }
   ],
   "source": [
    "check_order_of_characters()"
   ]
  },
  {
   "cell_type": "code",
   "execution_count": 46,
   "metadata": {},
   "outputs": [
    {
     "name": "stdout",
     "output_type": "stream",
     "text": [
      "Enter the string:qwerty\n"
     ]
    },
    {
     "data": {
      "text/plain": [
       "False"
      ]
     },
     "execution_count": 46,
     "metadata": {},
     "output_type": "execute_result"
    }
   ],
   "source": [
    "check_order_of_characters()"
   ]
  },
  {
   "cell_type": "markdown",
   "metadata": {},
   "source": [
    "## 7.Write a Python program to sort Python Dictionaries by Key or Value?"
   ]
  },
  {
   "cell_type": "code",
   "execution_count": 21,
   "metadata": {},
   "outputs": [],
   "source": [
    "def sortdict(in_dict,sort_type):\n",
    "    \"\"\"Sorting key and value in asscending order\n",
    "    \"\"\"\n",
    "    if sort_type == 'key':\n",
    "        # sort by key in ascending order\n",
    "        print(dict(sorted(in_dict.items(), key=lambda x:x[0], reverse=False)))\n",
    "    else:\n",
    "        # sort by value in ascending order\n",
    "        print(dict(sorted(in_dict.items(), key=lambda x:x[1], reverse=False)))"
   ]
  },
  {
   "cell_type": "code",
   "execution_count": 22,
   "metadata": {},
   "outputs": [
    {
     "name": "stdout",
     "output_type": "stream",
     "text": [
      "{'apple': 'red', 'banana': 'yellow', 'custard apple': 'green', 'pineapple': 'yellow'}\n"
     ]
    }
   ],
   "source": [
    "#sorted by key\n",
    "list3 = {'apple': \"red\", 'banana': \"yellow\", 'pineapple': \"yellow\", 'custard apple': \"green\"}\n",
    "sortdict(list3,'key')        "
   ]
  },
  {
   "cell_type": "code",
   "execution_count": 23,
   "metadata": {},
   "outputs": [
    {
     "name": "stdout",
     "output_type": "stream",
     "text": [
      "{'custard apple': 'green', 'apple': 'red', 'banana': 'yellow', 'pineapple': 'yellow'}\n"
     ]
    }
   ],
   "source": [
    "#sorted by value\n",
    "list3 = {'apple': \"red\", 'banana': \"yellow\", 'pineapple': \"yellow\", 'custard apple': \"green\"}\n",
    "sortdict(list3,'value')"
   ]
  }
 ],
 "metadata": {
  "kernelspec": {
   "display_name": "Python 3",
   "language": "python",
   "name": "python3"
  },
  "language_info": {
   "codemirror_mode": {
    "name": "ipython",
    "version": 3
   },
   "file_extension": ".py",
   "mimetype": "text/x-python",
   "name": "python",
   "nbconvert_exporter": "python",
   "pygments_lexer": "ipython3",
   "version": "3.8.5"
  }
 },
 "nbformat": 4,
 "nbformat_minor": 4
}
