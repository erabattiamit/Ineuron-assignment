{
 "cells": [
  {
   "cell_type": "markdown",
   "metadata": {},
   "source": [
    "# Python Basic Programming Assignment 8"
   ]
  },
  {
   "cell_type": "markdown",
   "metadata": {},
   "source": [
    "## 1. Write a Python Program to Add Two Matrices?"
   ]
  },
  {
   "cell_type": "code",
   "execution_count": 29,
   "metadata": {},
   "outputs": [],
   "source": [
    "import numpy as np\n",
    "def matricsAddition():\n",
    "  \n",
    "    R = int(input(\"Enter the number of rows:\"))\n",
    "    C = int(input(\"Enter the number of columns:\"))\n",
    "    \n",
    "    print(\"\\n If the no. of rows=3 and columns=3 then number of elements in matrix are (R*C) (3*3)=9\")\n",
    "    \n",
    "    print(\"\\nEnter the entries in a single line (separated by space): \")\n",
    "    \n",
    "    # User input of entries \n",
    "    # single line separated by space\n",
    "    entries1 = list(map(int, input(\"Enter the no. of elements for 1st matrix: \").split()))\n",
    "    entries2 = list(map(int, input(\"Enter the no. of elements for 2nd matrix: \").split()))\n",
    "\n",
    "    # For printing the matrix\n",
    "    matrix1 = np.array(entries1).reshape(R, C)\n",
    "    matrix2 = np.array(entries2).reshape(R, C)\n",
    "    print(\"\\n matrix1=\\n\",matrix1)\n",
    "    print(\"\\n\")\n",
    "    print(\"matrix2=\\n\",matrix2)\n",
    "    \n",
    "    result = np.array(matrix1) + np.array(matrix2)\n",
    "    print(\"\\n Addition of 2 matrices\")\n",
    "    print(f\"matrix1 +matrix2\\n= {result}\")"
   ]
  },
  {
   "cell_type": "code",
   "execution_count": 30,
   "metadata": {},
   "outputs": [
    {
     "name": "stdout",
     "output_type": "stream",
     "text": [
      "Enter the number of rows:2\n",
      "Enter the number of columns:2\n",
      "\n",
      " If the no. of rows=3 and columns=3 then number of elements in matrix are (R*C) (3*3)=9\n",
      "\n",
      "Enter the entries in a single line (separated by space): \n",
      "Enter the no. of elements for 1st matrix: 1 2 3 4\n",
      "Enter the no. of elements for 2nd matrix: 1 2 3 4\n",
      "\n",
      " matrix1=\n",
      " [[1 2]\n",
      " [3 4]]\n",
      "\n",
      "\n",
      "matrix2=\n",
      " [[1 2]\n",
      " [3 4]]\n",
      "\n",
      " Addition of 2 matrices\n",
      "matrix1 +matrix2\n",
      "= [[2 4]\n",
      " [6 8]]\n"
     ]
    }
   ],
   "source": [
    "matricsAddition()"
   ]
  },
  {
   "cell_type": "markdown",
   "metadata": {},
   "source": [
    "## 2. Write a Python Program to Multiply two Matrices ?"
   ]
  },
  {
   "cell_type": "code",
   "execution_count": 31,
   "metadata": {},
   "outputs": [],
   "source": [
    "def matricsMultiplication():\n",
    "  \n",
    "    R = int(input(\"Enter the number of rows:\"))\n",
    "    C = int(input(\"Enter the number of columns:\"))\n",
    "    \n",
    "    print(\"\\n If the no. of rows=3 and columns=3 then number of elements in matrix are (R*C) (3*3)=9\")\n",
    "    \n",
    "    print(\"\\nEnter the entries in a single line (separated by space): \")\n",
    "    \n",
    "    # User input of entries \n",
    "    # single line separated by space\n",
    "    entries1 = list(map(int, input(\"Enter the no. of elements for 1st matrix: \").split()))\n",
    "    entries2 = list(map(int, input(\"Enter the no. of elements for 2nd matrix: \").split()))\n",
    "\n",
    "    # For printing the matrix\n",
    "    matrix1 = np.array(entries1).reshape(R, C)\n",
    "    matrix2 = np.array(entries2).reshape(R, C)\n",
    "    print(\"\\n matrix1=\\n\",matrix1)\n",
    "    print(\"\\n\")\n",
    "    print(\"matrix2=\\n\",matrix2)\n",
    "    \n",
    "    result = np.array(matrix1) * np.array(matrix2)\n",
    "    print(\"\\n Multiplication of 2 matrices\")\n",
    "    print(f\"matrix1 * matrix2\\n= {result}\")"
   ]
  },
  {
   "cell_type": "code",
   "execution_count": 32,
   "metadata": {},
   "outputs": [
    {
     "name": "stdout",
     "output_type": "stream",
     "text": [
      "Enter the number of rows:3\n",
      "Enter the number of columns:3\n",
      "\n",
      " If the no. of rows=3 and columns=3 then number of elements in matrix are (R*C) (3*3)=9\n",
      "\n",
      "Enter the entries in a single line (separated by space): \n",
      "Enter the no. of elements for 1st matrix: 1 2 3 4 5 6 7 8 9\n",
      "Enter the no. of elements for 2nd matrix: 1 2 3 4 5 6 7 8 9\n",
      "\n",
      " matrix1=\n",
      " [[1 2 3]\n",
      " [4 5 6]\n",
      " [7 8 9]]\n",
      "\n",
      "\n",
      "matrix2=\n",
      " [[1 2 3]\n",
      " [4 5 6]\n",
      " [7 8 9]]\n",
      "\n",
      " Multiplication of 2 matrices\n",
      "matrix1 * matrix2\n",
      "= [[ 1  4  9]\n",
      " [16 25 36]\n",
      " [49 64 81]]\n"
     ]
    }
   ],
   "source": [
    "matricsMultiplication()"
   ]
  },
  {
   "cell_type": "markdown",
   "metadata": {},
   "source": [
    "## 3. Write a Python Program to Transpose a Matrix?"
   ]
  },
  {
   "cell_type": "code",
   "execution_count": 75,
   "metadata": {},
   "outputs": [],
   "source": [
    "def matricsTranspose():\n",
    "  \n",
    "    R = int(input(\"Enter the number of rows:\"))\n",
    "    C = int(input(\"Enter the number of columns:\"))\n",
    "    \n",
    "    print(\"\\n If the no. of rows=3 and columns=3 then number of elements in matrix are (R*C) (3*3)=9\")\n",
    "    \n",
    "    print(\"\\nEnter the entries in a single line (separated by space): \")\n",
    "    \n",
    "    # User input of entries \n",
    "    # single line separated by space\n",
    "    entries1 = list(map(int, input(\"Enter the no. of elements of matrix: \").split()))\n",
    "\n",
    "    # For printing the matrix\n",
    "    matrix1 = np.array(entries1).reshape(R, C)\n",
    "    print(\"\\n matrix1=\\n\",matrix1)\n",
    "    print(\"\\n\")\n",
    "    \n",
    "    result = [[matrix1[j][i] for j in range(len(matrix1))] for i in range(len(matrix1[0]))]\n",
    "    #for i in range(len(matrix1[0])) iterate through rows\n",
    "    #for j in range(len(matrix1)) iterates through columns\n",
    "    \n",
    "    for r in result:\n",
    "        print(r)"
   ]
  },
  {
   "cell_type": "code",
   "execution_count": 76,
   "metadata": {},
   "outputs": [
    {
     "name": "stdout",
     "output_type": "stream",
     "text": [
      "Enter the number of rows:3\n",
      "Enter the number of columns:3\n",
      "\n",
      " If the no. of rows=3 and columns=3 then number of elements in matrix are (R*C) (3*3)=9\n",
      "\n",
      "Enter the entries in a single line (separated by space): \n",
      "Enter the no. of elements of matrix: 1 2 3 4 5 6 7 8 99\n",
      "\n",
      " matrix1=\n",
      " [[ 1  2  3]\n",
      " [ 4  5  6]\n",
      " [ 7  8 99]]\n",
      "\n",
      "\n",
      "[1, 4, 7]\n",
      "[2, 5, 8]\n",
      "[3, 6, 99]\n"
     ]
    }
   ],
   "source": [
    "matricsTranspose()"
   ]
  },
  {
   "cell_type": "markdown",
   "metadata": {},
   "source": [
    "## 4. Write a Python Program to Sort Words in Alphabetic Order?"
   ]
  },
  {
   "cell_type": "code",
   "execution_count": 98,
   "metadata": {},
   "outputs": [],
   "source": [
    "def wordSorting():\n",
    "    string = input(\"Type the words in random alphabetical order:\")\n",
    "    lists=string.split()\n",
    "    print(lists)\n",
    "    lists.sort()\n",
    "    \n",
    "    sortedlist=[]\n",
    "    for word in lists:\n",
    "        sortedlist.append(word)\n",
    "    print(f\"\\n The sorted list in alphabetical order {sortedlist}\")  "
   ]
  },
  {
   "cell_type": "code",
   "execution_count": 100,
   "metadata": {},
   "outputs": [
    {
     "name": "stdout",
     "output_type": "stream",
     "text": [
      "Type the words in random alphabetical order:dog bear cat tiger lion \n",
      "['dog', 'bear', 'cat', 'tiger', 'lion']\n",
      "\n",
      " The sorted list in alphabetical order ['bear', 'cat', 'dog', 'lion', 'tiger']\n"
     ]
    }
   ],
   "source": [
    "wordSorting()"
   ]
  },
  {
   "cell_type": "markdown",
   "metadata": {},
   "source": [
    "## 5. Write a Python Program to Remove Punctuation From a String?"
   ]
  },
  {
   "cell_type": "code",
   "execution_count": 101,
   "metadata": {},
   "outputs": [],
   "source": [
    "import string\n",
    " \n",
    "def removePunctuations():\n",
    "    sentence=input(\"Write a sentence with punctuations\")\n",
    "    sentence = sentence.translate(str.maketrans('', '', string.punctuation))\n",
    "    print(f\"\\nSentence without punctuations:{sentence}\")"
   ]
  },
  {
   "cell_type": "code",
   "execution_count": 102,
   "metadata": {},
   "outputs": [
    {
     "name": "stdout",
     "output_type": "stream",
     "text": [
      "Write a sentence with punctuationsI don't often go swimming; I prefer to play tennis.\n",
      "\n",
      "Sentence without punctuations:I dont often go swimming I prefer to play tennis\n"
     ]
    }
   ],
   "source": [
    "removePunctuations()"
   ]
  },
  {
   "cell_type": "code",
   "execution_count": 103,
   "metadata": {},
   "outputs": [
    {
     "name": "stdout",
     "output_type": "stream",
     "text": [
      "Write a sentence with punctuationsShubh@gmail_19.com///?\n",
      "\n",
      "Sentence without punctuations:Shubhgmail19com\n"
     ]
    }
   ],
   "source": [
    "removePunctuations()"
   ]
  }
 ],
 "metadata": {
  "kernelspec": {
   "display_name": "Python 3",
   "language": "python",
   "name": "python3"
  },
  "language_info": {
   "codemirror_mode": {
    "name": "ipython",
    "version": 3
   },
   "file_extension": ".py",
   "mimetype": "text/x-python",
   "name": "python",
   "nbconvert_exporter": "python",
   "pygments_lexer": "ipython3",
   "version": "3.8.5"
  }
 },
 "nbformat": 4,
 "nbformat_minor": 4
}
