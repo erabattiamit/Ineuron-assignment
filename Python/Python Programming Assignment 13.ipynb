{
 "cells": [
  {
   "cell_type": "markdown",
   "metadata": {},
   "source": [
    "# Python Programming Basic Assignment 13"
   ]
  },
  {
   "cell_type": "markdown",
   "metadata": {},
   "source": [
    "## 1. Write a program that calculates and prints the value according to the given formula:\n",
    "Q = Square root of [(2 C D)/H]\n",
    "\n",
    "Following are the fixed values of C and H:\n",
    "\n",
    "C is 50. H is 30.\n",
    "\n",
    "D is the variable whose values should be input to your program in a comma-separated sequence.\n",
    "\n",
    "Example\n",
    "\n",
    "Let us assume the following comma separated input sequence is given to the program:\n",
    "\n",
    "100,150,180\n",
    "\n",
    "The output of the program should be:\n",
    "\n",
    "18,22,24"
   ]
  },
  {
   "cell_type": "code",
   "execution_count": 3,
   "metadata": {},
   "outputs": [],
   "source": [
    "from math import sqrt\n",
    "def calculateProgram():\n",
    "    D = eval(input(\"Enter the Input (values should be input to your program in a comma-separated sequence): \"))\n",
    "    output = []\n",
    "    # Given values\n",
    "    C = 50 \n",
    "    H = 30 \n",
    "    for i in D:\n",
    "        Q = str(int(sqrt((2*C*i)/H)))\n",
    "        output.append(Q)\n",
    "    print(\"Output: {}\".format(','.join(output)))"
   ]
  },
  {
   "cell_type": "code",
   "execution_count": 4,
   "metadata": {},
   "outputs": [
    {
     "name": "stdout",
     "output_type": "stream",
     "text": [
      "Enter the Input (values should be input to your program in a comma-separated sequence): 100,150,180\n",
      "Output: 18,22,24\n"
     ]
    }
   ],
   "source": [
    "calculateProgram()"
   ]
  },
  {
   "cell_type": "markdown",
   "metadata": {},
   "source": [
    "## 2. Write a program which takes 2 digits, X,Y as input and generates a 2-dimensional array. The element value in the i-th row and j-th column of the array should be i*j."
   ]
  },
  {
   "cell_type": "code",
   "execution_count": 10,
   "metadata": {},
   "outputs": [],
   "source": [
    "def gen2dArray():\n",
    "    X=int(input(\"Enter the number of rows:\"))\n",
    "    Y=int(input(\"Enter the number of columns:\"))\n",
    "    gen2dArray=[]\n",
    "    for rows in range(X):\n",
    "        gen2dArray.insert(X,[])\n",
    "        for cols in range(Y):\n",
    "            gen2dArray[rows].append(rows*cols)\n",
    "    print(f\"Rows={X},Columns={Y} and The 2 dimensional array is{gen2dArray}\")"
   ]
  },
  {
   "cell_type": "code",
   "execution_count": 11,
   "metadata": {},
   "outputs": [
    {
     "name": "stdout",
     "output_type": "stream",
     "text": [
      "Enter the number of rows:3\n",
      "Enter the number of columns:3\n",
      "Rows=3,Columns=3 and The 2 dimensional array is[[0, 0, 0], [0, 1, 2], [0, 2, 4]]\n"
     ]
    }
   ],
   "source": [
    "gen2dArray()"
   ]
  },
  {
   "cell_type": "markdown",
   "metadata": {},
   "source": [
    "## 3. Write a program that accepts a comma separated sequence of words as input and prints the words in a comma-separated sequence after sorting them alphabetically."
   ]
  },
  {
   "cell_type": "code",
   "execution_count": 14,
   "metadata": {},
   "outputs": [],
   "source": [
    "def sortedString():\n",
    "    in_string = input(\"Enter the String (input to your program in a comma-separated sequence)): \")\n",
    "    out_string = ','.join(sorted(in_string.split(',')))\n",
    "    print(f'The sorted string in asscending order: {out_string}')"
   ]
  },
  {
   "cell_type": "code",
   "execution_count": 15,
   "metadata": {},
   "outputs": [
    {
     "name": "stdout",
     "output_type": "stream",
     "text": [
      "Enter the String (input to your program in a comma-separated sequence)): Rohit,Virat,Suryakumar,Bumra\n",
      "The sorted string in asscending order: Bumra,Rohit,Suryakumar,Virat\n"
     ]
    }
   ],
   "source": [
    "sortedString()"
   ]
  },
  {
   "cell_type": "markdown",
   "metadata": {},
   "source": [
    "## 4. Write a program that accepts a sequence of whitespace separated words as input and prints the words after removing all duplicate words and sorting them alphanumerically."
   ]
  },
  {
   "cell_type": "code",
   "execution_count": 16,
   "metadata": {},
   "outputs": [],
   "source": [
    "def sortAlphaNumerically():\n",
    "    \"\"\"accepts a sequence of whitespace separated words as input and removing all duplicate words and sorting them alphanumerically.\n",
    "    \"\"\"\n",
    "    in_string = input(\"Enter the Input String: \")\n",
    "    out_string = ' '.join(sorted(sorted(list(set(in_string.split(\" \"))))))\n",
    "    print(f'Output: {out_string}')"
   ]
  },
  {
   "cell_type": "code",
   "execution_count": 17,
   "metadata": {},
   "outputs": [
    {
     "name": "stdout",
     "output_type": "stream",
     "text": [
      "Enter the Input String: accepts a sequence of whitespace separated accepts a sequence of whitespace separated\n",
      "Output: a accepts of separated sequence whitespace\n"
     ]
    }
   ],
   "source": [
    "sortAlphaNumerically()"
   ]
  },
  {
   "cell_type": "markdown",
   "metadata": {},
   "source": [
    "## 5. Write a program that accepts a sentence and calculate the number of letters and digits."
   ]
  },
  {
   "cell_type": "code",
   "execution_count": 18,
   "metadata": {},
   "outputs": [],
   "source": [
    "def countLetterAndDigits():\n",
    "    string = input(\"Enter the String with digits: \")\n",
    "    lettersList = 'ABCDEFGHIJKLMNOPQRSTUVWXYZabcdefghijklmnopqrstuvwxyz'\n",
    "    digitsList = '0123456789'\n",
    "    letters = 0\n",
    "    digits = 0\n",
    "    for i in string:\n",
    "        if i in lettersList:\n",
    "            letters += 1\n",
    "        if i in digitsList:\n",
    "            digits += 1\n",
    "    print(f'LETTERS {letters} \\nDIGITS {digits}')"
   ]
  },
  {
   "cell_type": "code",
   "execution_count": 19,
   "metadata": {},
   "outputs": [
    {
     "name": "stdout",
     "output_type": "stream",
     "text": [
      "Enter the String with digits: Rohit Sharma 45\n",
      "LETTERS 11 \n",
      "DIGITS 2\n"
     ]
    }
   ],
   "source": [
    "countLetterAndDigits()"
   ]
  },
  {
   "cell_type": "markdown",
   "metadata": {},
   "source": [
    "## 6. A website requires the users to input username and password to register. Write a program to check the validity of password input by users."
   ]
  },
  {
   "cell_type": "code",
   "execution_count": 1,
   "metadata": {},
   "outputs": [],
   "source": [
    "def passwordCheck():\n",
    "    username= input(\"Enter the username: \")\n",
    "    pw=input(\"Set the password: \")\n",
    "    \n",
    "    #Max 5 attempts for correct username and password\n",
    "    count=5\n",
    "    \n",
    "    while count>0:\n",
    "        name=input(\"Enter the user name: \")\n",
    "        password=input(\"Enter the password: \")\n",
    "        if name== username and password == pw :\n",
    "            print(\"You are logged in\")\n",
    "            break\n",
    "        else:\n",
    "            print(f\"Wrong Password.Re-enter correct username & password. You have {count-1} chances left\")\n",
    "            count=count-1\n",
    "            continue"
   ]
  },
  {
   "cell_type": "code",
   "execution_count": 2,
   "metadata": {},
   "outputs": [
    {
     "name": "stdout",
     "output_type": "stream",
     "text": [
      "Enter the username: sm\n",
      "Set the password: 1234\n",
      "Enter the user name: sm\n",
      "Enter the password: 1234\n",
      "You are logged in\n"
     ]
    }
   ],
   "source": [
    "passwordCheck()"
   ]
  },
  {
   "cell_type": "code",
   "execution_count": 3,
   "metadata": {},
   "outputs": [
    {
     "name": "stdout",
     "output_type": "stream",
     "text": [
      "Enter the username: sm\n",
      "Set the password: 1234\n",
      "Enter the user name: sm\n",
      "Enter the password: 12\n",
      "Wrong Password.Re-enter correct username & password. You have 4 chances left\n",
      "Enter the user name: sm\n",
      "Enter the password: 123\n",
      "Wrong Password.Re-enter correct username & password. You have 3 chances left\n",
      "Enter the user name: sm\n",
      "Enter the password: 14\n",
      "Wrong Password.Re-enter correct username & password. You have 2 chances left\n",
      "Enter the user name: sm\n",
      "Enter the password: 12\n",
      "Wrong Password.Re-enter correct username & password. You have 1 chances left\n",
      "Enter the user name: sm\n",
      "Enter the password: 123\n",
      "Wrong Password.Re-enter correct username & password. You have 0 chances left\n"
     ]
    }
   ],
   "source": [
    "passwordCheck()"
   ]
  }
 ],
 "metadata": {
  "kernelspec": {
   "display_name": "Python 3",
   "language": "python",
   "name": "python3"
  },
  "language_info": {
   "codemirror_mode": {
    "name": "ipython",
    "version": 3
   },
   "file_extension": ".py",
   "mimetype": "text/x-python",
   "name": "python",
   "nbconvert_exporter": "python",
   "pygments_lexer": "ipython3",
   "version": "3.8.5"
  }
 },
 "nbformat": 4,
 "nbformat_minor": 4
}
