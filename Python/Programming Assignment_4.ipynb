{
 "cells": [
  {
   "cell_type": "markdown",
   "metadata": {},
   "source": [
    "# Programming_Assignment04"
   ]
  },
  {
   "cell_type": "markdown",
   "metadata": {},
   "source": [
    "## 1. Write a Python Program to Find the Factorial of a Number?"
   ]
  },
  {
   "cell_type": "code",
   "execution_count": 1,
   "metadata": {},
   "outputs": [],
   "source": [
    "def factorial():\n",
    "    \"\"\"The multiplication of all positive integers, say “n”, that will be smaller than or equivalent to n is known as the factorial. The factorial of a positive integer is represented by the symbol “n!”.\n",
    "     For example, the factorial of 3 represents the multiplication of numbers 3, 2, 1, i.e. 3! = 3 × 2 × 1 and is equal to 6.\n",
    "    \"\"\"\n",
    "    n=int(input(\"Enter the number to calculate its factorial: \"))\n",
    "    factorial=1\n",
    "    if n<0:\n",
    "        print(\"Factorial of negative number does not exists.\")\n",
    "    elif n==0:\n",
    "        print(\"Factorial of 0 is 1.\")\n",
    "    else:\n",
    "        for i in range(1,n+1):\n",
    "            factorial=factorial*i\n",
    "        print(f\"The factorial of {n}! is {factorial}\")"
   ]
  },
  {
   "cell_type": "code",
   "execution_count": 2,
   "metadata": {},
   "outputs": [
    {
     "name": "stdout",
     "output_type": "stream",
     "text": [
      "Enter the number to calculate its factorial: 5\n",
      "The factorial of 5! is 120\n"
     ]
    }
   ],
   "source": [
    "factorial()"
   ]
  },
  {
   "cell_type": "markdown",
   "metadata": {},
   "source": [
    "## 2. Write a Python Program to Display the multiplication Table?"
   ]
  },
  {
   "cell_type": "code",
   "execution_count": 16,
   "metadata": {},
   "outputs": [],
   "source": [
    "def tableGenrator():\n",
    "    \"\"\"A multiplication chart is a table that shows the products of two numbers. Usually, one set of numbers is written on the left column and another set is written as the top row. The products are listed as a rectangular array of numbers. Multiplication is repeated addition.\n",
    "    \"\"\"\n",
    "    num=int(input(\"Enter the number to find the table of: \"))\n",
    "    print(\"\\n\")\n",
    "    no_range = int(input('Enter limit upto which you need the table: '))\n",
    "    print(\"\\n\")\n",
    "    for i in range(1,no_range+1):\n",
    "            print(f'{num} X {i} = {num*i}')"
   ]
  },
  {
   "cell_type": "code",
   "execution_count": 17,
   "metadata": {},
   "outputs": [
    {
     "name": "stdout",
     "output_type": "stream",
     "text": [
      "Enter the number to find the table of: 19\n",
      "\n",
      "\n",
      "Enter limit upto which you need the table: 10\n",
      "\n",
      "\n",
      "19 X 1 = 19\n",
      "19 X 2 = 38\n",
      "19 X 3 = 57\n",
      "19 X 4 = 76\n",
      "19 X 5 = 95\n",
      "19 X 6 = 114\n",
      "19 X 7 = 133\n",
      "19 X 8 = 152\n",
      "19 X 9 = 171\n",
      "19 X 10 = 190\n"
     ]
    }
   ],
   "source": [
    "tableGenrator()"
   ]
  },
  {
   "cell_type": "markdown",
   "metadata": {},
   "source": [
    "## 3.Write a Python Program to print the fibonacci sequence ?"
   ]
  },
  {
   "cell_type": "code",
   "execution_count": 22,
   "metadata": {},
   "outputs": [],
   "source": [
    "def fibonacciSequence():\n",
    "    \"\"\"The Fibonacci sequence, also known as Fibonacci numbers, is defined as the sequence of numbers in which each number in the sequence is equal to the sum of two numbers before it. The Fibonacci Sequence is given as:\n",
    "\n",
    "Fibonacci Sequence = 0, 1, 1, 2, 3, 5, 8, 13, 21, ….\n",
    "Fibonacci Sequence Formula\n",
    "The Fibonacci sequence of numbers “Fn” is defined using the recursive relation with the seed values F0=0 and F1=1:\n",
    "\n",
    "Fn = Fn-1+Fn-2\n",
    "\n",
    "Here, the sequence is defined using two different parts, such as kick-off and recursive relation.\n",
    "\n",
    "The kick-off part is F0=0 and F1=1.\n",
    "\n",
    "The recursive relation part is Fn = Fn-1+Fn-2.\n",
    "\n",
    "It is noted that the sequence starts with 0 rather than 1. So, F5 should be the 6th term of the sequence.\n",
    "F0=0,F1=1 ,F2 = F1+F0 = 1+0 = 1 ,F3 = F2+F1 = 1+1 = 2, F4 = F3+F2 = 2+1 = 3, F5 = F4+F3 = 3+2 = 5\n",
    "    \"\"\"\n",
    "    fibonacci_no = int(input('Enter the no of fibonacci sequences you want to find: '))\n",
    "    start_list = [0,1]\n",
    "    if fibonacci_no < 0:\n",
    "        print('Fibonacci Numbers are not available for Negative Numbers')\n",
    "    elif fibonacci_no <= 2 and fibonacci_no >= 0:\n",
    "        print(start_list)\n",
    "    else:\n",
    "        for i in range(fibonacci_no):\n",
    "            if i >= 2:\n",
    "                start_list.append(start_list[i -1]+start_list[i -2]) \n",
    "        print(f'The list of First {fibonacci_no} terms of fibonacci series is: ',start_list)"
   ]
  },
  {
   "cell_type": "code",
   "execution_count": 23,
   "metadata": {},
   "outputs": [
    {
     "name": "stdout",
     "output_type": "stream",
     "text": [
      "Enter the no of fibonacci sequences you want to find: 20\n",
      "The list of First 20 terms of fibonacci series is:  [0, 1, 1, 2, 3, 5, 8, 13, 21, 34, 55, 89, 144, 233, 377, 610, 987, 1597, 2584, 4181]\n"
     ]
    }
   ],
   "source": [
    "fibonacciSequence()"
   ]
  },
  {
   "cell_type": "markdown",
   "metadata": {},
   "source": [
    "## 4.Write a Python Program to check Armstrong number ?"
   ]
  },
  {
   "cell_type": "code",
   "execution_count": 24,
   "metadata": {},
   "outputs": [],
   "source": [
    "def armstrongNumber():\n",
    "    \"\"\"An Armstrong number is defined as the sum of nth\n",
    " power of each digit to a n digit number is equal to that number. Let N=abc\n",
    " is a three number which is an Armstrong number, so the mathematical form of the number is N=a3+b3+c3\n",
    ", if N=abcd\n",
    " be a four digit number then we have N=a4+b4+c4+d4\n",
    ", similarly for five, six, seven and so on…\n",
    "    \"\"\"\n",
    "    x=int(input(\"Enter a number:\"))\n",
    "    s=str(x)\n",
    "    l=len(s)\n",
    "    sum=0\n",
    "    for i in str(x):\n",
    "            sum = sum + (int(i)**l)\n",
    "\n",
    "    if x==sum:            \n",
    "        print(f'{x} is a armstrong number.')\n",
    "    else:\n",
    "\n",
    "        print(f'{x} is not a armstrong number.')"
   ]
  },
  {
   "cell_type": "code",
   "execution_count": 25,
   "metadata": {},
   "outputs": [
    {
     "name": "stdout",
     "output_type": "stream",
     "text": [
      "Enter a number:153\n",
      "153 is a armstrong number.\n"
     ]
    }
   ],
   "source": [
    "armstrongNumber()"
   ]
  },
  {
   "cell_type": "code",
   "execution_count": 27,
   "metadata": {},
   "outputs": [
    {
     "name": "stdout",
     "output_type": "stream",
     "text": [
      "Enter a number:408\n",
      "408 is not a armstrong number.\n"
     ]
    }
   ],
   "source": [
    "armstrongNumber()"
   ]
  },
  {
   "cell_type": "markdown",
   "metadata": {},
   "source": [
    "## 5.Write a Python Program to Find Armstrong number in an interval ?"
   ]
  },
  {
   "cell_type": "code",
   "execution_count": 37,
   "metadata": {},
   "outputs": [
    {
     "name": "stdout",
     "output_type": "stream",
     "text": [
      "Enter a number for starting range: 1\n",
      "Enter a number for ending a range: 1000\n",
      "\n",
      "\n",
      "List of armstrong number from range 1 to 1000: [1, 2, 3, 4, 5, 6, 7, 8, 9, 153, 370, 371, 407]\n"
     ]
    }
   ],
   "source": [
    "def armstrongNumberList(x):\n",
    "    s=str(x)\n",
    "    l=len(s)\n",
    "    sum=0\n",
    "    for i in str(x):\n",
    "        sum = sum + (int(i)**l)\n",
    "    \n",
    "    if x==sum:\n",
    "        \n",
    "        return(sum)\n",
    "\n",
    "a=int(input(\"Enter a number for starting range: \"))\n",
    "b=int(input(\"Enter a number for ending a range: \"))\n",
    "armstrong_list=[]\n",
    "for i in range(a,b+1):\n",
    "    if type(armstrongNumberList(i))==int:\n",
    "        armstrong_list.append(i)\n",
    "print(\"\\n\")\n",
    "print(f'List of armstrong number from range {a} to {b}:',armstrong_list)"
   ]
  },
  {
   "cell_type": "markdown",
   "metadata": {},
   "source": [
    "## 6.Write a Python Program to sum of natural numbers ?"
   ]
  },
  {
   "cell_type": "code",
   "execution_count": 40,
   "metadata": {},
   "outputs": [],
   "source": [
    "def sumOfNaturalNumbers():\n",
    "    \"\"\"Natural numbers are a part of the number system which includes all the positive integers from 1 till infinity and are also used for counting purpose. It does not include zero (0). In fact, 1,2,3,4,5,6,7,8,9…., are also called counting numbers.\n",
    "\n",
    "Natural numbers are part of real numbers, that include only the positive integers i.e. 1, 2, 3, 4,5,6, ………. excluding zero, fractions, decimals and negative numbers.\n",
    "\n",
    "Note: Natural numbers do not include negative numbers or zero.\n",
    "formula Sn = n(n+1)/2\n",
    "    \"\"\"\n",
    "    num = int(input('Enter a number: '))\n",
    "    sum = num*((num+1)/2)\n",
    "    print(f'Sum of {num} natural numbers is {sum}')"
   ]
  },
  {
   "cell_type": "code",
   "execution_count": 41,
   "metadata": {},
   "outputs": [
    {
     "name": "stdout",
     "output_type": "stream",
     "text": [
      "Enter a number: 10\n",
      "Sum of 10 natural numbers is 55.0\n"
     ]
    }
   ],
   "source": [
    "sumOfNaturalNumbers()"
   ]
  }
 ],
 "metadata": {
  "kernelspec": {
   "display_name": "Python 3",
   "language": "python",
   "name": "python3"
  },
  "language_info": {
   "codemirror_mode": {
    "name": "ipython",
    "version": 3
   },
   "file_extension": ".py",
   "mimetype": "text/x-python",
   "name": "python",
   "nbconvert_exporter": "python",
   "pygments_lexer": "ipython3",
   "version": "3.8.5"
  }
 },
 "nbformat": 4,
 "nbformat_minor": 4
}
