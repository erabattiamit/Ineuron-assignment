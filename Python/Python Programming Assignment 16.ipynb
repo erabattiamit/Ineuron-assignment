{
 "cells": [
  {
   "cell_type": "markdown",
   "metadata": {},
   "source": [
    "# Python Basic Programming Assignment 16"
   ]
  },
  {
   "cell_type": "markdown",
   "metadata": {},
   "source": [
    "## 1. Write a function that stutters a word as if someone is struggling to read it. The first two letters are repeated twice with an ellipsis ... and space after each, and then the word is pronounced with a question mark ?. Examples stutter('incredible') ➞ 'in... in... incredible?' stutter('enthusiastic') ➞ 'en... en... enthusiastic?' stutter('outstanding') ➞ 'ou... ou... outstanding?'\n",
    "Hint :- Assume all input is in lower case and at least two characters long."
   ]
  },
  {
   "cell_type": "code",
   "execution_count": 1,
   "metadata": {},
   "outputs": [],
   "source": [
    "def stutterWord():\n",
    "    string = input('Enter the Word :')\n",
    "    resultString = string.replace(string[0:2],((string[0:2]+'... ')*2)+ string[0:2])  +'?'\n",
    "    print(f'{string} ➞ {resultString}')"
   ]
  },
  {
   "cell_type": "code",
   "execution_count": 3,
   "metadata": {},
   "outputs": [
    {
     "name": "stdout",
     "output_type": "stream",
     "text": [
      "Enter the Word :Rohit Sharma\n",
      "Rohit Sharma ➞ Ro... Ro... Rohit Sharma?\n"
     ]
    }
   ],
   "source": [
    "stutterWord()"
   ]
  },
  {
   "cell_type": "markdown",
   "metadata": {},
   "source": [
    "## 2. Create a function that takes an angle in radians and returns the corresponding angle in degrees rounded to one decimal place."
   ]
  },
  {
   "cell_type": "code",
   "execution_count": 7,
   "metadata": {},
   "outputs": [],
   "source": [
    "import math\n",
    "def radiansToDegrees():\n",
    "    \"\"\"The conversion of measure of an angle from radians to degrees can be done using the following formula:\n",
    "    Angle in Radians × 180°/π = Angle in Degrees.\n",
    "    \"\"\"\n",
    "    radians = int(input('Enter the angle in Radians: '))\n",
    "    degrees = (180/math.pi)*radians\n",
    "    print(f'{radians} radian(s) --> {degrees:.1f} degrees') #1f for rounded to one decimal place"
   ]
  },
  {
   "cell_type": "code",
   "execution_count": 8,
   "metadata": {},
   "outputs": [
    {
     "name": "stdout",
     "output_type": "stream",
     "text": [
      "Enter the angle in Radians: 2\n",
      "2 radian(s) --> 114.6 degrees\n"
     ]
    }
   ],
   "source": [
    "radiansToDegrees()"
   ]
  },
  {
   "cell_type": "markdown",
   "metadata": {},
   "source": [
    "## 3. In this challenge, establish if a given integer num is a Curzon number. If 1 plus 2 elevated to num is exactly divisible by 1 plus 2 multiplied by num, then num is a Curzon number. Given a non-negative integer num, implement a function that returns True if num is a Curzon number, or False otherwise."
   ]
  },
  {
   "cell_type": "code",
   "execution_count": 9,
   "metadata": {},
   "outputs": [],
   "source": [
    "def curzonNumber():\n",
    "    \"\"\"A number N is said to be a Curzon Number if 2**N + 1 is divisible by 2*N + 1\n",
    "    \"\"\"\n",
    "    num = int(input(\"Enter a number: \"))\n",
    "    if (pow(2,num)+1)%((2*num)+1) == 0:\n",
    "        print(f'{num} is a Curzon Number')\n",
    "    else:\n",
    "        print(f'{num} is Not a Curzon Number')"
   ]
  },
  {
   "cell_type": "code",
   "execution_count": 10,
   "metadata": {},
   "outputs": [
    {
     "name": "stdout",
     "output_type": "stream",
     "text": [
      "Enter a number: 2\n",
      "2 is a Curzon Number\n"
     ]
    }
   ],
   "source": [
    "curzonNumber()"
   ]
  },
  {
   "cell_type": "code",
   "execution_count": 11,
   "metadata": {},
   "outputs": [
    {
     "name": "stdout",
     "output_type": "stream",
     "text": [
      "Enter a number: 4\n",
      "4 is Not a Curzon Number\n"
     ]
    }
   ],
   "source": [
    "curzonNumber()"
   ]
  },
  {
   "cell_type": "markdown",
   "metadata": {},
   "source": [
    "## 4. Given the side length x find the area of a hexagon."
   ]
  },
  {
   "cell_type": "code",
   "execution_count": 12,
   "metadata": {},
   "outputs": [],
   "source": [
    "def areaOfHexagon():\n",
    "    \"\"\"The formula to calculate the area of a regular hexagon with side length s: (3 √3 s^2)/2.\n",
    "    Remember, this only works for REGULAR hexagons.\n",
    "    \"\"\"\n",
    "    num = int(input('Enter the side length of a Hexagon: '))\n",
    "    result = ((3*math.sqrt(3))/2)*(pow(num,2))\n",
    "    print(f'Area for Hexagon of sidelength {num} --> {result:.3f}')"
   ]
  },
  {
   "cell_type": "code",
   "execution_count": 13,
   "metadata": {},
   "outputs": [
    {
     "name": "stdout",
     "output_type": "stream",
     "text": [
      "Enter the side length of a Hexagon: 10\n",
      "Area for Hexagon of sidelength 10 --> 259.808\n"
     ]
    }
   ],
   "source": [
    "areaOfHexagon()"
   ]
  },
  {
   "cell_type": "markdown",
   "metadata": {},
   "source": [
    "## 5. Create a function that returns a base-2 (binary) representation of a base-10 (decimal) string number. To convert is simple: ((2) means base-2 and (10) means base-10) 010101001(2) = 1 + 8 + 32 + 128."
   ]
  },
  {
   "cell_type": "code",
   "execution_count": 14,
   "metadata": {},
   "outputs": [],
   "source": [
    "def getBinary():\n",
    "    num = int(input(\"Enter a Number: \"))\n",
    "    result = bin(num)[2:] #or bin(num).replace('0b','') to remove \"0b\" prefix\n",
    "    print(f'Binary of {num} --> {result}')"
   ]
  },
  {
   "cell_type": "code",
   "execution_count": 15,
   "metadata": {},
   "outputs": [
    {
     "name": "stdout",
     "output_type": "stream",
     "text": [
      "Enter a Number: 169\n",
      "Binary of 169 --> 10101001\n"
     ]
    }
   ],
   "source": [
    "getBinary()"
   ]
  }
 ],
 "metadata": {
  "kernelspec": {
   "display_name": "Python 3",
   "language": "python",
   "name": "python3"
  },
  "language_info": {
   "codemirror_mode": {
    "name": "ipython",
    "version": 3
   },
   "file_extension": ".py",
   "mimetype": "text/x-python",
   "name": "python",
   "nbconvert_exporter": "python",
   "pygments_lexer": "ipython3",
   "version": "3.8.5"
  }
 },
 "nbformat": 4,
 "nbformat_minor": 4
}
