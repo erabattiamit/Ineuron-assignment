{
 "cells": [
  {
   "cell_type": "markdown",
   "metadata": {},
   "source": [
    "# Programming Basic Assignment 6"
   ]
  },
  {
   "cell_type": "markdown",
   "metadata": {},
   "source": [
    "## 1. Write a Python Program to Display Fibonacci Sequence Using Recursion?"
   ]
  },
  {
   "cell_type": "code",
   "execution_count": 1,
   "metadata": {},
   "outputs": [
    {
     "name": "stdout",
     "output_type": "stream",
     "text": [
      "Enter the Range Number: 20\n",
      "\n",
      "Fibonacci Sequence Using Recursion for 20 is :-\n",
      " [0, 1, 1, 2, 3, 5, 8, 13, 21, 34, 55, 89, 144, 233, 377, 610, 987, 1597, 2584, 4181]\n"
     ]
    }
   ],
   "source": [
    "def Fibonacci(number):\n",
    "    \"\"\"A Fibonacci number is a series of numbers in which each Fibonacci number is obtained by adding the two preceding\n",
    "    numbers. It means that the next number in the series is the addition of two previous numbers. Let the first two \n",
    "    numbers in the series be taken as 0 and 1. By adding 0 and 1, we get the third number as 1. Then by adding the \n",
    "    second and the third number (i.e) 1 and 1, we get the fourth number as 2, and similarly, the process goes on. \n",
    "    Thus, we get the Fibonacci series as 0, 1, 1, 2, 3, 5, 8, ……. Hence, the obtained series is called the \n",
    "    Fibonacci number series.\n",
    "    \"\"\"\n",
    "    if(number == 0):\n",
    "        return 0\n",
    "    elif(number == 1):\n",
    "        return 1\n",
    "    else:\n",
    "        return (Fibonacci(number - 2)+ Fibonacci(number - 1))\n",
    "number = int(input(\"Enter the Range Number: \"))\n",
    "empty=[]\n",
    "for i in range(0, number):\n",
    "    empty.append(Fibonacci(i))\n",
    "print(f'\\nFibonacci Sequence Using Recursion for {number} is :-\\n',empty)"
   ]
  },
  {
   "cell_type": "markdown",
   "metadata": {},
   "source": [
    "## 2. Write a Python Program to Find Factorial of Number Using Recursion?"
   ]
  },
  {
   "cell_type": "code",
   "execution_count": 2,
   "metadata": {},
   "outputs": [
    {
     "name": "stdout",
     "output_type": "stream",
     "text": [
      "Enter a number: 6\n",
      "The factorial of 6 is 720\n"
     ]
    }
   ],
   "source": [
    "def recur_factorial(n):\n",
    "    \"\"\"Factorials are just products. An exclamation mark indicates the factorial. Factorial is a multiplication operation\n",
    "    of natural numbers with all the natural numbers that are less than it. \n",
    "    \"\"\"\n",
    "    if (n==1 or n==0): \n",
    "        return 1\n",
    "    else:  \n",
    "        return n*recur_factorial(n-1) \n",
    "    \n",
    "num = int(input(\"Enter a number: \"))   \n",
    "if num < 0:  \n",
    "    print(\"Sorry, factorial does not exist for negative numbers\")  \n",
    "elif num == 0:  \n",
    "    print(\"The factorial of 0 is 1\")  \n",
    "else:  \n",
    "    print(\"The factorial of\",num,\"is\",recur_factorial(num))  "
   ]
  },
  {
   "cell_type": "markdown",
   "metadata": {},
   "source": [
    "## 3. Write a Python Program to calculate your Body Mass Index?"
   ]
  },
  {
   "cell_type": "code",
   "execution_count": 3,
   "metadata": {},
   "outputs": [],
   "source": [
    "def bmi():\n",
    "    \"\"\"Body mass index (BMI) is a person’s weight in kilograms divided by the square of height in meters. \n",
    "    BMI is an inexpensive and easy screening method for weight category—underweight, healthy weight, overweight, \n",
    "    and obesity.\n",
    "\n",
    "    BMI does not measure body fat directly, but BMI is moderately correlated with more direct measures of body fat. \n",
    "    Furthermore, BMI appears to be as strongly correlated with various metabolic and disease outcome as are these more\n",
    "    direct measures of body fatness.\n",
    "    \"\"\"\n",
    "    height = float(input(\"Input your height in meters: \"))\n",
    "    weight = float(input(\"Input your weight in Kilogram: \"))\n",
    "    calc_bmi=round(weight / (height * height), 2)\n",
    "    \n",
    "    if (calc_bmi < 18.5):\n",
    "        status = 'Underweight'\n",
    "    elif (calc_bmi >= 18.5 and calc_bmi < 24.9):\n",
    "        status = 'Healthy'\n",
    "    elif (calc_bmi >= 24.9 and calc_bmi < 30):\n",
    "        status = 'Overweight'\n",
    "    elif (calc_bmi >=30):\n",
    "        status = 'Suffering from Obesity'\n",
    "    print(f'Your\\'re BMI is {calc_bmi} and status is {status} ')"
   ]
  },
  {
   "cell_type": "code",
   "execution_count": 4,
   "metadata": {},
   "outputs": [
    {
     "name": "stdout",
     "output_type": "stream",
     "text": [
      "Input your height in meters: 1.8\n",
      "Input your weight in Kilogram: 98\n",
      "Your're BMI is 30.25 and status is Suffering from Obesity \n"
     ]
    }
   ],
   "source": [
    "bmi()"
   ]
  },
  {
   "cell_type": "markdown",
   "metadata": {},
   "source": [
    "## 4. Write a Python Program to Calculate the Natural Logarithm of any Number ?"
   ]
  },
  {
   "cell_type": "code",
   "execution_count": 5,
   "metadata": {},
   "outputs": [],
   "source": [
    "import math\n",
    "def naturalLogNo():\n",
    "    \"\"\"The natural logarithm of a number is its logarithm to the base of the mathematical constant e, where e is an \n",
    "    irrational and transcendental approximately equal to 2.718281828459. \n",
    "    \"\"\"\n",
    "    n=int(input(\"Enter the number to find its natural log: \"))\n",
    "    print (f\"\\n Natural logarithm of {n} is : \", math.log(n))"
   ]
  },
  {
   "cell_type": "code",
   "execution_count": 6,
   "metadata": {},
   "outputs": [
    {
     "name": "stdout",
     "output_type": "stream",
     "text": [
      "Enter the number to find its natural log: 19\n",
      "\n",
      " Natural logarithm of 19 is :  2.9444389791664403\n"
     ]
    }
   ],
   "source": [
    "naturalLogNo()"
   ]
  },
  {
   "cell_type": "markdown",
   "metadata": {},
   "source": [
    "## 5. Write a Python Program for Cube sum of first n Natural Numbers ?"
   ]
  },
  {
   "cell_type": "code",
   "execution_count": 7,
   "metadata": {},
   "outputs": [],
   "source": [
    "def sumOfCube():\n",
    "    \"\"\"Sum of Cube of 'n' natural numbers\t[n(n+1)/2]**2\n",
    "    \"\"\"\n",
    "    num = int(input(\"Enter the no of Natural Numbers: \"))\n",
    "    result = pow(((num * (num +1))/2),2)\n",
    "    print(f'The Cube Sum of First {num} Natural Numbers is {result}')"
   ]
  },
  {
   "cell_type": "code",
   "execution_count": 8,
   "metadata": {},
   "outputs": [
    {
     "name": "stdout",
     "output_type": "stream",
     "text": [
      "Enter the no of Natural Numbers: 5\n",
      "The Cube Sum of First 5 Natural Numbers is 225.0\n"
     ]
    }
   ],
   "source": [
    "sumOfCube()"
   ]
  }
 ],
 "metadata": {
  "kernelspec": {
   "display_name": "Python 3",
   "language": "python",
   "name": "python3"
  },
  "language_info": {
   "codemirror_mode": {
    "name": "ipython",
    "version": 3
   },
   "file_extension": ".py",
   "mimetype": "text/x-python",
   "name": "python",
   "nbconvert_exporter": "python",
   "pygments_lexer": "ipython3",
   "version": "3.8.5"
  }
 },
 "nbformat": 4,
 "nbformat_minor": 4
}
