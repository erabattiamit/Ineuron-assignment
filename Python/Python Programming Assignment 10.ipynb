{
 "cells": [
  {
   "cell_type": "markdown",
   "metadata": {},
   "source": [
    "# Python Basic Programming Assignment 10"
   ]
  },
  {
   "cell_type": "markdown",
   "metadata": {},
   "source": [
    "## 1. Write a Python program to find sum of elements in list?"
   ]
  },
  {
   "cell_type": "code",
   "execution_count": 12,
   "metadata": {},
   "outputs": [],
   "source": [
    "import numpy as np\n",
    "\n",
    "def sumOfListElements():\n",
    "    \n",
    "    print(\"Please give space after every number.\\n for eg., 1 12 3 \\n\")\n",
    "    list1=list(map(int, input(\"Enter the elements of list:-\").strip().split()))\n",
    "    #splits the string into a list of strings, using spaces as the delimiter. The strip() method removes any leading/trailing whitespaces.\n",
    "    #maps the function int over each element of the list of strings, converting them into integers.\n",
    "    \n",
    "    print(f'\\nThe list is',list1)\n",
    "    print(type(list1))\n",
    "    sum=0\n",
    "    for i in list1:\n",
    "        sum+=i\n",
    "    print(f'\\nThe sum of all element in a list {list1} is {sum}')"
   ]
  },
  {
   "cell_type": "code",
   "execution_count": 13,
   "metadata": {},
   "outputs": [
    {
     "name": "stdout",
     "output_type": "stream",
     "text": [
      "Please give space after every number.\n",
      " for eg., 1 12 3 \n",
      "\n",
      "Enter the elements of list:-1 2 3 4 5\n",
      "\n",
      "The list is [1, 2, 3, 4, 5]\n",
      "<class 'list'>\n",
      "\n",
      "The sum of all element in a list [1, 2, 3, 4, 5] is 15\n"
     ]
    }
   ],
   "source": [
    "sumOfListElements()"
   ]
  },
  {
   "cell_type": "markdown",
   "metadata": {},
   "source": [
    "## 2. Write a Python program to Multiply all numbers in the list?"
   ]
  },
  {
   "cell_type": "code",
   "execution_count": 1,
   "metadata": {},
   "outputs": [],
   "source": [
    "def multiplyAllListElement():\n",
    "    \n",
    "    print(\"Please give space after every number.\\n for eg., 1 12 3 \\n\")\n",
    "    \n",
    "    mulList=list(map(int, input(\"Enter the elements of list:-\").strip().split()))\n",
    "    #splits the string into a list of strings, using spaces as the delimiter. The strip() method removes any leading/trailing whitespaces.\n",
    "    #maps the function int over each element of the list of strings, converting them into integers.\n",
    "    \n",
    "    print(f'\\nThe list is',mulList)\n",
    "    print(type(mulList))\n",
    "    multiply=1\n",
    "    for i in mulList:\n",
    "        multiply=multiply*i\n",
    "    print(f'\\nThe multiplication of all element in a list {mulList} is {multiply}')"
   ]
  },
  {
   "cell_type": "code",
   "execution_count": 2,
   "metadata": {},
   "outputs": [
    {
     "name": "stdout",
     "output_type": "stream",
     "text": [
      "Please give space after every number.\n",
      " for eg., 1 12 3 \n",
      "\n",
      "Enter the elements of list:-1 2 3 4 5\n",
      "\n",
      "The list is [1, 2, 3, 4, 5]\n",
      "<class 'list'>\n",
      "\n",
      "The multiplication of all element in a list [1, 2, 3, 4, 5] is 120\n"
     ]
    }
   ],
   "source": [
    "multiplyAllListElement()"
   ]
  },
  {
   "cell_type": "markdown",
   "metadata": {},
   "source": [
    "## 3. Write a Python program to find smallest number in a list?"
   ]
  },
  {
   "cell_type": "code",
   "execution_count": 5,
   "metadata": {},
   "outputs": [],
   "source": [
    "def smallestElement():\n",
    "    \n",
    "    print(\"Please give space after every number.\\n for eg., 1 12 3 \\n\")\n",
    "    \n",
    "    list2=list(map(int, input(\"Enter the elements of list:-\").strip().split()))\n",
    "    #splits the string into a list of strings, using spaces as the delimiter. The strip() method removes any leading/trailing whitespaces.\n",
    "    #maps the function int over each element of the list of strings, converting them into integers.\n",
    "    \n",
    "    print(f'\\nThe list is',list2)\n",
    "    print(type(list2))\n",
    "    small=list2[0] # assigning 1st element of list in variable small\n",
    "    \n",
    "    for i in list2:\n",
    "        if (i<small):\n",
    "            small=i\n",
    "    print(f'\\nThe smallest element in a list {list2} is {small}')"
   ]
  },
  {
   "cell_type": "code",
   "execution_count": 7,
   "metadata": {},
   "outputs": [
    {
     "name": "stdout",
     "output_type": "stream",
     "text": [
      "Please give space after every number.\n",
      " for eg., 1 12 3 \n",
      "\n",
      "Enter the elements of list:-5 4 3 2 1\n",
      "\n",
      "The list is [5, 4, 3, 2, 1]\n",
      "<class 'list'>\n",
      "\n",
      "The smallest element in a list [5, 4, 3, 2, 1] is 1\n"
     ]
    }
   ],
   "source": [
    "smallestElement()"
   ]
  },
  {
   "cell_type": "markdown",
   "metadata": {},
   "source": [
    "## 4. Write a Python program to find largest number in a list?"
   ]
  },
  {
   "cell_type": "code",
   "execution_count": 15,
   "metadata": {},
   "outputs": [],
   "source": [
    "def largestElement():\n",
    "    \n",
    "    print(\"Please give space after every number.\\n for eg., 1 12 3 \\n\")\n",
    "    \n",
    "    list3=list(map(int, input(\"Enter the elements of list:-\").strip().split()))\n",
    "    #splits the string into a list of strings, using spaces as the delimiter. The strip() method removes any leading/trailing whitespaces.\n",
    "    #maps the function int over each element of the list of strings, converting them into integers.\n",
    "    \n",
    "    print(f'\\nThe list is',list3)\n",
    "    print(type(list3))\n",
    "    largest=list3[0] # assigning 1st element of list in variable small\n",
    "    \n",
    "    for i in list3:\n",
    "        if (i>largest):\n",
    "            largest=i\n",
    "    print(f'\\nThe largest element in a list {list3} is {largest}')"
   ]
  },
  {
   "cell_type": "code",
   "execution_count": 16,
   "metadata": {},
   "outputs": [
    {
     "name": "stdout",
     "output_type": "stream",
     "text": [
      "Please give space after every number.\n",
      " for eg., 1 12 3 \n",
      "\n",
      "Enter the elements of list:-1 2 3 4 5\n",
      "\n",
      "The list is [1, 2, 3, 4, 5]\n",
      "<class 'list'>\n",
      "\n",
      "The largest element in a list [1, 2, 3, 4, 5] is 5\n"
     ]
    }
   ],
   "source": [
    "largestElement()"
   ]
  },
  {
   "cell_type": "markdown",
   "metadata": {},
   "source": [
    "## 5. Write a Python program to find second largest number in a list?"
   ]
  },
  {
   "cell_type": "code",
   "execution_count": 22,
   "metadata": {},
   "outputs": [],
   "source": [
    "def secondLargestElement():\n",
    "    \n",
    "    print(\"Please give space after every number.\\n for eg., 1 12 3 \\n\")\n",
    "    \n",
    "    list4=list(map(int, input(\"Enter the elements of list:-\").strip().split()))\n",
    "    #splits the string into a list of strings, using spaces as the delimiter. The strip() method removes any leading/trailing whitespaces.\n",
    "    #maps the function int over each element of the list of strings, converting them into integers.\n",
    "    \n",
    "    print(f'\\nThe list is',list4)\n",
    "    print(type(list4))\n",
    "        \n",
    "    #descending order\n",
    "    sorted_list = sorted(list4,reverse=True)\n",
    "    print(f'\\nThe second largest element in a list {list4} is {sorted_list[1]}')"
   ]
  },
  {
   "cell_type": "code",
   "execution_count": 23,
   "metadata": {},
   "outputs": [
    {
     "name": "stdout",
     "output_type": "stream",
     "text": [
      "Please give space after every number.\n",
      " for eg., 1 12 3 \n",
      "\n",
      "Enter the elements of list:- 7 5 9 1 3\n",
      "\n",
      "The list is [7, 5, 9, 1, 3]\n",
      "<class 'list'>\n",
      "\n",
      "The second largest element in a list [7, 5, 9, 1, 3] is 7\n"
     ]
    }
   ],
   "source": [
    "secondLargestElement()"
   ]
  },
  {
   "cell_type": "markdown",
   "metadata": {},
   "source": [
    "## 6.Write a Python Program to find N largest elements in the list ?"
   ]
  },
  {
   "cell_type": "code",
   "execution_count": 24,
   "metadata": {},
   "outputs": [],
   "source": [
    "def nLargestElement():\n",
    "    \n",
    "    print(\"Please give space after every number.\\n for eg., 1 12 3 \\n\")\n",
    "    \n",
    "    listn=list(map(int, input(\"Enter the elements of list:-\").strip().split()))\n",
    "    #splits the string into a list of strings, using spaces as the delimiter. The strip() method removes any leading/trailing whitespaces.\n",
    "    #maps the function int over each element of the list of strings, converting them into integers.\n",
    "    \n",
    "    print(f'\\nThe list is',listn)\n",
    "    print(type(listn))\n",
    "    \n",
    "    n=int(input(\"Enter the number of largest elements to be find in a list: \"))\n",
    "    \n",
    "    #descending order\n",
    "    sorted_list = sorted(listn,reverse=True)\n",
    "    print(f'\\nThe second largest element in a list {listn} is {sorted_list[0:n]}')"
   ]
  },
  {
   "cell_type": "code",
   "execution_count": 25,
   "metadata": {},
   "outputs": [
    {
     "name": "stdout",
     "output_type": "stream",
     "text": [
      "Please give space after every number.\n",
      " for eg., 1 12 3 \n",
      "\n",
      "Enter the elements of list:-7 6 9 5 3\n",
      "\n",
      "The list is [7, 6, 9, 5, 3]\n",
      "<class 'list'>\n",
      "Enter the number of largest elements to be find in a list: 3\n",
      "\n",
      "The second largest element in a list [7, 6, 9, 5, 3] is [9, 7, 6]\n"
     ]
    }
   ],
   "source": [
    "nLargestElement()"
   ]
  },
  {
   "cell_type": "markdown",
   "metadata": {},
   "source": [
    "## 7.Write a Python Program to find even numbers in the list ?"
   ]
  },
  {
   "cell_type": "code",
   "execution_count": 26,
   "metadata": {},
   "outputs": [],
   "source": [
    "def evenNoList():\n",
    "    \n",
    "    print(\"Please give space after every number.\\n for eg., 1 12 3 \\n\")\n",
    "    \n",
    "    list7=list(map(int, input(\"Enter the elements of list:-\").strip().split()))\n",
    "    #splits the string into a list of strings, using spaces as the delimiter. The strip() method removes any leading/trailing whitespaces.\n",
    "    #maps the function int over each element of the list of strings, converting them into integers.\n",
    "    \n",
    "    print(f'\\nThe list is',list7)\n",
    "    print(type(list7))\n",
    "    \n",
    "    #Empty list to append even nos.\n",
    "    evenList=[]\n",
    "    \n",
    "    for even in list7:\n",
    "        if even%2 == 0:\n",
    "            evenList.append(even)\n",
    "    print(f'The Even Elements in {list7} are {evenList}')\n"
   ]
  },
  {
   "cell_type": "code",
   "execution_count": 27,
   "metadata": {},
   "outputs": [
    {
     "name": "stdout",
     "output_type": "stream",
     "text": [
      "Please give space after every number.\n",
      " for eg., 1 12 3 \n",
      "\n",
      "Enter the elements of list:-9 8 7 6 5 4 3 2 1 0\n",
      "\n",
      "The list is [9, 8, 7, 6, 5, 4, 3, 2, 1, 0]\n",
      "<class 'list'>\n",
      "The Even Elements in [9, 8, 7, 6, 5, 4, 3, 2, 1, 0] are [8, 6, 4, 2, 0]\n"
     ]
    }
   ],
   "source": [
    "evenNoList()"
   ]
  },
  {
   "cell_type": "markdown",
   "metadata": {},
   "source": [
    "## 8.Write a Python Program to find odd numbers in the list ?"
   ]
  },
  {
   "cell_type": "code",
   "execution_count": 30,
   "metadata": {},
   "outputs": [],
   "source": [
    "def oddnNoList():\n",
    "    \n",
    "    print(\"Please give space after every number.\\n for eg., 1 12 3 \\n\")\n",
    "    \n",
    "    list8=list(map(int, input(\"Enter the elements of list:-\").strip().split()))\n",
    "    #splits the string into a list of strings, using spaces as the delimiter. The strip() method removes any leading/trailing whitespaces.\n",
    "    #maps the function int over each element of the list of strings, converting them into integers.\n",
    "    \n",
    "    print(f'\\nThe list is',list8)\n",
    "    print(type(list8))\n",
    "    \n",
    "    #Empty list to append odd nos.\n",
    "    oddList=[]\n",
    "    \n",
    "    for odd in list8:\n",
    "        if odd%2 != 0:\n",
    "            oddList.append(odd)\n",
    "    print(f'The odd Elements in {list8} are {oddList}')"
   ]
  },
  {
   "cell_type": "code",
   "execution_count": 31,
   "metadata": {},
   "outputs": [
    {
     "name": "stdout",
     "output_type": "stream",
     "text": [
      "Please give space after every number.\n",
      " for eg., 1 12 3 \n",
      "\n",
      "Enter the elements of list:-1 2 3 4 5 6 7 8 9 0\n",
      "\n",
      "The list is [1, 2, 3, 4, 5, 6, 7, 8, 9, 0]\n",
      "<class 'list'>\n",
      "The odd Elements in [1, 2, 3, 4, 5, 6, 7, 8, 9, 0] are [1, 3, 5, 7, 9]\n"
     ]
    }
   ],
   "source": [
    "oddnNoList()"
   ]
  },
  {
   "cell_type": "markdown",
   "metadata": {},
   "source": [
    "## 9.Write a Python Program to remove empty list from list ?"
   ]
  },
  {
   "cell_type": "code",
   "execution_count": 49,
   "metadata": {},
   "outputs": [],
   "source": [
    "def removeEmptyList():\n",
    "    \n",
    "    list9=eval(input('Enter all elements of the list: '))\n",
    "    #tuple to list\n",
    "    list9 = list(list9)\n",
    "\n",
    "    print(f'\\nThe list is',list9)\n",
    "    print(type(list9))\n",
    "    \n",
    "    if [] in list9:\n",
    "        print(f'There is an Empty list in {list9} at Position {list9.index([])}')\n",
    "        list9.remove([])\n",
    "        print(f'The List after removing [] is {list9}')\n",
    "    else:\n",
    "        print(f'There is no [] List in the list {list9}')"
   ]
  },
  {
   "cell_type": "code",
   "execution_count": 50,
   "metadata": {},
   "outputs": [
    {
     "name": "stdout",
     "output_type": "stream",
     "text": [
      "Enter all elements of the list: 1,2,3,4,[],5,[6,7]\n",
      "\n",
      "The list is [1, 2, 3, 4, [], 5, [6, 7]]\n",
      "<class 'list'>\n",
      "There is an Empty list in [1, 2, 3, 4, [], 5, [6, 7]] at Position 4\n",
      "The List after removing [] is [1, 2, 3, 4, 5, [6, 7]]\n"
     ]
    }
   ],
   "source": [
    "checkEmptyList()"
   ]
  },
  {
   "cell_type": "markdown",
   "metadata": {},
   "source": [
    "## 10.Write a Python Program to Cloning or Copying a list ?"
   ]
  },
  {
   "cell_type": "code",
   "execution_count": 53,
   "metadata": {},
   "outputs": [],
   "source": [
    "def copyOfList():\n",
    "    print(\"Please give space after every number.\\n for eg., 1 12 3 \\n\")\n",
    "    \n",
    "    Orglist=list(map(int, input(\"Enter the elements of list:-\").strip().split()))\n",
    "    #splits the string into a list of strings, using spaces as the delimiter. The strip() method removes any leading/trailing whitespaces.\n",
    "    #maps the function int over each element of the list of strings, converting them into integers.\n",
    "    \n",
    "    print(f'\\nThe list is {Orglist} and id of list is {id(Orglist)}')\n",
    "    # id()-Return the identity of an object.This is guaranteed to be unique among simultaneously existing objects.\n",
    "    print(type(Orglist))\n",
    "    \n",
    "    copyOfList=Orglist.copy()\n",
    "    print(f'\\nThe list is {copyOfList} and id of list is {id(copyOfList)}')"
   ]
  },
  {
   "cell_type": "code",
   "execution_count": 54,
   "metadata": {},
   "outputs": [
    {
     "name": "stdout",
     "output_type": "stream",
     "text": [
      "Please give space after every number.\n",
      " for eg., 1 12 3 \n",
      "\n",
      "Enter the elements of list:-1 2 3 4 5 6\n",
      "\n",
      "The list is [1, 2, 3, 4, 5, 6] and id of list is 3084000827520\n",
      "<class 'list'>\n",
      "\n",
      "The list is [1, 2, 3, 4, 5, 6] and id of list is 3084000967424\n"
     ]
    }
   ],
   "source": [
    "copyOfList()"
   ]
  },
  {
   "cell_type": "markdown",
   "metadata": {},
   "source": [
    "## 11.Write a Python Program to count occurences of an element in a list ?"
   ]
  },
  {
   "cell_type": "code",
   "execution_count": 55,
   "metadata": {},
   "outputs": [],
   "source": [
    "def occurenceCount():\n",
    "    \n",
    "    list11=eval(input('Enter all elements of the list: '))\n",
    "    #tuple to list\n",
    "    list11 = list(list11)\n",
    "\n",
    "    print(f'\\nThe list is',list11)\n",
    "    print(type(list11))\n",
    "    \n",
    "    element=eval(input(\"Enter the element to count its number of occurences in list\"))\n",
    "    count=0\n",
    "    \n",
    "    # to check given element in a list\n",
    "    if element in list11:\n",
    "        # iterating list\n",
    "        for i in list11:\n",
    "            # comparing iterate element with given element\n",
    "            if i == element:\n",
    "                #incrementing if given element is in list\n",
    "                count = count+1\n",
    "    print(f'There are {count} occurences of {element} in {list11}')"
   ]
  },
  {
   "cell_type": "code",
   "execution_count": 57,
   "metadata": {},
   "outputs": [
    {
     "name": "stdout",
     "output_type": "stream",
     "text": [
      "Enter all elements of the list: 1,2,3,4,5,6,7,7\n",
      "\n",
      "The list is [1, 2, 3, 4, 5, 6, 7, 7]\n",
      "<class 'list'>\n",
      "Enter the element to count its number of occurences in list7\n",
      "There are 2 occurences of 7 in [1, 2, 3, 4, 5, 6, 7, 7]\n"
     ]
    }
   ],
   "source": [
    "occurenceCount()"
   ]
  }
 ],
 "metadata": {
  "kernelspec": {
   "display_name": "Python 3",
   "language": "python",
   "name": "python3"
  },
  "language_info": {
   "codemirror_mode": {
    "name": "ipython",
    "version": 3
   },
   "file_extension": ".py",
   "mimetype": "text/x-python",
   "name": "python",
   "nbconvert_exporter": "python",
   "pygments_lexer": "ipython3",
   "version": "3.8.5"
  }
 },
 "nbformat": 4,
 "nbformat_minor": 4
}
