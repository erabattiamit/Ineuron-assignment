{
 "cells": [
  {
   "cell_type": "markdown",
   "metadata": {},
   "source": [
    "# Programming Assignment_2"
   ]
  },
  {
   "cell_type": "markdown",
   "metadata": {},
   "source": [
    "## 1.Write a Python program to convert Kilometers to Miles ?"
   ]
  },
  {
   "cell_type": "code",
   "execution_count": 1,
   "metadata": {},
   "outputs": [],
   "source": [
    "def KmToMiles():\n",
    "    \"\"\"Kilometers to miles is the conversion of distance from the unit kilometer to the unit miles.\n",
    "    1 kilometer is approximately equal to 0.62137119 miles.\n",
    "    \"\"\"\n",
    "    Kilometers=int(input(\"Enter the number of kilometers:\"))\n",
    "    miles=Kilometers/1.609344\n",
    "    print(\"\\n\")\n",
    "    print(\"Kilometers converted to miles\")\n",
    "    print(\"\\n\")\n",
    "    print(\"{} km is Equal to {} miles\".format(Kilometers,miles))"
   ]
  },
  {
   "cell_type": "code",
   "execution_count": 2,
   "metadata": {},
   "outputs": [
    {
     "name": "stdout",
     "output_type": "stream",
     "text": [
      "Enter the number of kilometers:3\n",
      "\n",
      "\n",
      "Kilometers converted to miles\n",
      "\n",
      "\n",
      "3 km is Equal to 1.8641135767120018 miles\n"
     ]
    }
   ],
   "source": [
    "KmToMiles()"
   ]
  },
  {
   "cell_type": "markdown",
   "metadata": {},
   "source": [
    "## 2.Write a Python program to convert Celsius to Farenheit ?"
   ]
  },
  {
   "cell_type": "code",
   "execution_count": 7,
   "metadata": {},
   "outputs": [],
   "source": [
    "def CelciusToFarenheit():\n",
    "    \"\"\"Celsius and Fahrenheit are two scales used to measure temperature. The temperature in the centigrade scale will be expressed in degrees Celsius. The temperature in the Fahrenheit scale will be expressed in degrees Fahrenheit. The relation between Celsius and Fahrenheit is proportional. \n",
    "    \"\"\"\n",
    "    Temperature=int(input(\"Enter the temperature in celcius:\"))\n",
    "\n",
    "    Farenheit=Temperature*(9/5)+32\n",
    "    print(\"\\n\")\n",
    "    print(\"{}° Celsius is Equal to {}°F (Farenheit)\".format(Temperature,Farenheit))"
   ]
  },
  {
   "cell_type": "code",
   "execution_count": 8,
   "metadata": {},
   "outputs": [
    {
     "name": "stdout",
     "output_type": "stream",
     "text": [
      "Enter the temperature in celcius:10\n",
      "\n",
      "\n",
      "10° Celsius is Equal to 50.0°F (Farenheit)\n"
     ]
    }
   ],
   "source": [
    "CelciusToFarenheit()"
   ]
  },
  {
   "cell_type": "markdown",
   "metadata": {},
   "source": [
    "## 3.Write a Python program to display calender ?"
   ]
  },
  {
   "cell_type": "code",
   "execution_count": 9,
   "metadata": {},
   "outputs": [],
   "source": [
    "import calendar\n",
    "\n",
    "def showCalender():\n",
    "    year = int(input(\"Enter calender year: \"))\n",
    "    print(calendar.calendar(year))"
   ]
  },
  {
   "cell_type": "code",
   "execution_count": 10,
   "metadata": {},
   "outputs": [
    {
     "name": "stdout",
     "output_type": "stream",
     "text": [
      "Enter calender year: 2023\n",
      "                                  2023\n",
      "\n",
      "      January                   February                   March\n",
      "Mo Tu We Th Fr Sa Su      Mo Tu We Th Fr Sa Su      Mo Tu We Th Fr Sa Su\n",
      "                   1             1  2  3  4  5             1  2  3  4  5\n",
      " 2  3  4  5  6  7  8       6  7  8  9 10 11 12       6  7  8  9 10 11 12\n",
      " 9 10 11 12 13 14 15      13 14 15 16 17 18 19      13 14 15 16 17 18 19\n",
      "16 17 18 19 20 21 22      20 21 22 23 24 25 26      20 21 22 23 24 25 26\n",
      "23 24 25 26 27 28 29      27 28                     27 28 29 30 31\n",
      "30 31\n",
      "\n",
      "       April                      May                       June\n",
      "Mo Tu We Th Fr Sa Su      Mo Tu We Th Fr Sa Su      Mo Tu We Th Fr Sa Su\n",
      "                1  2       1  2  3  4  5  6  7                1  2  3  4\n",
      " 3  4  5  6  7  8  9       8  9 10 11 12 13 14       5  6  7  8  9 10 11\n",
      "10 11 12 13 14 15 16      15 16 17 18 19 20 21      12 13 14 15 16 17 18\n",
      "17 18 19 20 21 22 23      22 23 24 25 26 27 28      19 20 21 22 23 24 25\n",
      "24 25 26 27 28 29 30      29 30 31                  26 27 28 29 30\n",
      "\n",
      "        July                     August                  September\n",
      "Mo Tu We Th Fr Sa Su      Mo Tu We Th Fr Sa Su      Mo Tu We Th Fr Sa Su\n",
      "                1  2          1  2  3  4  5  6                   1  2  3\n",
      " 3  4  5  6  7  8  9       7  8  9 10 11 12 13       4  5  6  7  8  9 10\n",
      "10 11 12 13 14 15 16      14 15 16 17 18 19 20      11 12 13 14 15 16 17\n",
      "17 18 19 20 21 22 23      21 22 23 24 25 26 27      18 19 20 21 22 23 24\n",
      "24 25 26 27 28 29 30      28 29 30 31               25 26 27 28 29 30\n",
      "31\n",
      "\n",
      "      October                   November                  December\n",
      "Mo Tu We Th Fr Sa Su      Mo Tu We Th Fr Sa Su      Mo Tu We Th Fr Sa Su\n",
      "                   1             1  2  3  4  5                   1  2  3\n",
      " 2  3  4  5  6  7  8       6  7  8  9 10 11 12       4  5  6  7  8  9 10\n",
      " 9 10 11 12 13 14 15      13 14 15 16 17 18 19      11 12 13 14 15 16 17\n",
      "16 17 18 19 20 21 22      20 21 22 23 24 25 26      18 19 20 21 22 23 24\n",
      "23 24 25 26 27 28 29      27 28 29 30               25 26 27 28 29 30 31\n",
      "30 31\n",
      "\n"
     ]
    }
   ],
   "source": [
    "showCalender()"
   ]
  },
  {
   "cell_type": "markdown",
   "metadata": {},
   "source": [
    "## 4.Write a Python program to solve quadartic equation ?"
   ]
  },
  {
   "cell_type": "code",
   "execution_count": 27,
   "metadata": {},
   "outputs": [],
   "source": [
    "#importing libraries\n",
    "import cmath\n",
    "import math\n",
    "\n",
    "def quadarticEquationRoots():\n",
    "    \"\"\"Quadratic Formula\n",
    "    The standard form of a quadratic equation is ax2+bx+c=0, where a,b and c are real numbers and a≠0. ‘a’ is the coefficient of x2. It is called the quadratic coefficient. ‘b’ is the coefficient of x. It is called the linear coefficient. ‘c’ is the constant term.\n",
    "\n",
    "    Quadratic Formula is used to directly obtain the roots of a quadratic equation from the standard form of the equation.\n",
    "\n",
    "    For the quadratic equation ax2+bx+c=0,\n",
    "\n",
    "    x= [-b± √(b2-4ac)]/2a\n",
    "\n",
    "    Nature of Roots Based on the value of the discriminant, D=b2−4ac, the roots of a quadratic equation, ax2 + bx + c = 0, can be of three types.\n",
    "\n",
    "    Case 1: If D>0, the equation has two distinct real roots.\n",
    "\n",
    "    Case 2: If D=0, the equation has two equal real roots.\n",
    "\n",
    "    Case 3: If D<0, the equation has no real roots.\n",
    "    \"\"\"\n",
    "    \n",
    "    print(\"Example For the quadratic equation ax2+bx+c=0\")\n",
    "    a = int(input('Enter a value: '))\n",
    "    b = int(input('Enter b value: '))\n",
    "    c = int(input('Enter c value: '))\n",
    "   \n",
    "    discriminant = b*b-4*a*c\n",
    "    \n",
    "    if discriminant == 0:\n",
    "        r1 = -b/2*a\n",
    "        r2 = -b/2*a\n",
    "        print(\"Roots are Real\",r1,r2)\n",
    "    elif discriminant > 0:\n",
    "        r1 = (-b-math.sqrt(discriminant))/(2 * a)\n",
    "        r2 = (-b+math.sqrt(discriminant))/(2 * a)\n",
    "        print(\"Roots are Real and different\",r1,r2)\n",
    "    else:\n",
    "        r1 = (-b-cmath.sqrt(discriminant))/(2 * a)\n",
    "        r2 = (-b+cmath.sqrt(discriminant))/(2 * a)\n",
    "        print(\"Roots are Imaginary\",r1,r2)\n",
    "\n"
   ]
  },
  {
   "cell_type": "code",
   "execution_count": 28,
   "metadata": {},
   "outputs": [
    {
     "name": "stdout",
     "output_type": "stream",
     "text": [
      "Example For the quadratic equation ax2+bx+c=0\n",
      "Enter a value: 1\n",
      "Enter b value: 2\n",
      "Enter c value: 1\n",
      "Roots are Real -1.0 -1.0\n"
     ]
    }
   ],
   "source": [
    "quadarticEquationRoots()"
   ]
  },
  {
   "cell_type": "markdown",
   "metadata": {},
   "source": [
    "## 5.Write a Python program to swap two variables without temp variable ?"
   ]
  },
  {
   "cell_type": "code",
   "execution_count": 29,
   "metadata": {},
   "outputs": [],
   "source": [
    "def swapNumbers():\n",
    "    a =int(input(\"Enter the number for a:\"))\n",
    "    b =int(input(\"Enter the number for b:\"))\n",
    "\n",
    "    print(\"The value of a and b will be swap \")\n",
    "    print(\"\\n\")\n",
    "    a=a+b  \n",
    "    b=a-b  \n",
    "    a=a-b   \n",
    "    print(\"The value of a: \", a)\n",
    "    print(\"The value of b: \", b)"
   ]
  },
  {
   "cell_type": "code",
   "execution_count": 31,
   "metadata": {},
   "outputs": [
    {
     "name": "stdout",
     "output_type": "stream",
     "text": [
      "Enter the number for a:19\n",
      "Enter the number for b:13\n",
      "The value of a and b will be swap \n",
      "\n",
      "\n",
      "The value of a:  13\n",
      "The value of b:  19\n"
     ]
    }
   ],
   "source": [
    "swapNumbers()"
   ]
  }
 ],
 "metadata": {
  "kernelspec": {
   "display_name": "Python 3",
   "language": "python",
   "name": "python3"
  },
  "language_info": {
   "codemirror_mode": {
    "name": "ipython",
    "version": 3
   },
   "file_extension": ".py",
   "mimetype": "text/x-python",
   "name": "python",
   "nbconvert_exporter": "python",
   "pygments_lexer": "ipython3",
   "version": "3.8.5"
  }
 },
 "nbformat": 4,
 "nbformat_minor": 4
}
