{
 "cells": [
  {
   "cell_type": "markdown",
   "metadata": {},
   "source": [
    "# Programming Assignment_9"
   ]
  },
  {
   "cell_type": "markdown",
   "metadata": {},
   "source": [
    "## 1. Write a Python program to check if the given number is a Disarium Number?"
   ]
  },
  {
   "cell_type": "code",
   "execution_count": 26,
   "metadata": {},
   "outputs": [],
   "source": [
    "def disariumChecker():\n",
    "    \"\"\"What is disarium number?\n",
    "A number is called Disarium if sum of its digits powered with their respective positions is equal to the number itself.\n",
    "\n",
    "For example, 175 is a Disarium number as follows:\n",
    "\n",
    "1**1+ 7**2 + 5**3 = 1+ 49 + 125 = 175\n",
    "    \"\"\"\n",
    "    num = input('Enter a Number for checking disarium no. : ')\n",
    "    sum = 0\n",
    "    #print(type(num))\n",
    "\n",
    "    for i in range(len(num)): #for eg. num=175 # i in range(3)\n",
    "        sum = sum + int(num[i])**(i+1) # sum=0+(1)**(0+1)=1 #num[i] will iterate the entered no. 175 will iterate 1,7,5\n",
    "        # sum=1+(7**(1+1))=1+49=50\n",
    "        #sum =50+(5**(2+1))=50+125=175\n",
    "    if sum == int(num):\n",
    "        print(f'{num} is a Disarium Number')\n",
    "    else:\n",
    "        print(f'{num} is a Not Disarium Number')"
   ]
  },
  {
   "cell_type": "code",
   "execution_count": 27,
   "metadata": {},
   "outputs": [
    {
     "name": "stdout",
     "output_type": "stream",
     "text": [
      "Enter a Number for checking disarium no. : 175\n",
      "175 is a Disarium Number\n"
     ]
    }
   ],
   "source": [
    "disariumChecker()"
   ]
  },
  {
   "cell_type": "code",
   "execution_count": 28,
   "metadata": {},
   "outputs": [
    {
     "name": "stdout",
     "output_type": "stream",
     "text": [
      "Enter a Number for checking disarium no. : 25\n",
      "25 is a Not Disarium Number\n"
     ]
    }
   ],
   "source": [
    "disariumChecker()"
   ]
  },
  {
   "cell_type": "markdown",
   "metadata": {},
   "source": [
    "## 2. Write a Python program to print all disarium numbers between 1 to 100?"
   ]
  },
  {
   "cell_type": "code",
   "execution_count": 43,
   "metadata": {},
   "outputs": [],
   "source": [
    "def disariumNumberRange():\n",
    "    \"\"\"What is disarium number?\n",
    "A number is called Disarium if sum of its digits powered with their respective positions is equal to the number itself.\n",
    "\n",
    "For example, 175 is a Disarium number as follows:\n",
    "\n",
    "1**1+ 7**2 + 5**3 = 1+ 49 + 125 = 175\n",
    "    \"\"\"\n",
    "    disariumList=[] #empty list to append the disarium nos.\n",
    "    \n",
    "    SR = int(input('Enter a Number for starting range of disarium no. : '))\n",
    "    ER = int(input('Enter a Number for end range of disarium no. : '))\n",
    "    sum = 0\n",
    "    \n",
    "    for number in range(SR,ER + 1): \n",
    "        sum = 0\n",
    "        for i in range(len(str(number))): # converting number to string to calculate the length\n",
    "            sum = sum + int(str(number)[i])**(i+1) \n",
    "        if sum == int(number):\n",
    "            disariumList.append(number)\n",
    "    print(f\"\\nThe disarium numbers from {SR} to {ER} is {disariumList}\")"
   ]
  },
  {
   "cell_type": "code",
   "execution_count": 44,
   "metadata": {},
   "outputs": [
    {
     "name": "stdout",
     "output_type": "stream",
     "text": [
      "Enter a Number for starting range of disarium no. : 1\n",
      "Enter a Number for end range of disarium no. : 100\n",
      "The disarium numbers from 1 to 100 is [1, 2, 3, 4, 5, 6, 7, 8, 9, 89]\n"
     ]
    }
   ],
   "source": [
    "disariumNumberRange()"
   ]
  },
  {
   "cell_type": "code",
   "execution_count": null,
   "metadata": {},
   "outputs": [],
   "source": []
  },
  {
   "cell_type": "code",
   "execution_count": 14,
   "metadata": {},
   "outputs": [],
   "source": [
    "def happyNumberChecker():\n",
    "    \n",
    "    \"\"\"A number is said to be happy if it yields 1 when replaced by the sum of squares of its digits repeatedly.\n",
    "    If this process results in an endless cycle of numbers containing 4, then the number will be an unhappy number.\n",
    "    \"\"\"\n",
    "    n=int(input(\"Enter the number to check happy number or not: \"))\n",
    "    #The seen set is used to keep track of the numbers that have already been seen in the process.\n",
    "    seen = set()\n",
    "    \n",
    "    #In the while loop, if the current number n has not been seen before, it is added to the seen set.\n",
    "    while n not in seen:\n",
    "        seen.add(n)\n",
    "     # The sum of squares of the digits of n is calculated and the result is assigned back to n.\n",
    "#The process is repeated until n is in the seen set, which means it has been seen before and the process has entered a loop.   \n",
    "        \n",
    "        n = sum(int(i)**2 for i in str(n))\n",
    "    #If n is equal to 1, it means the process has ended and n is a happy number, so the function returns True.\n",
    "    if n==1:\n",
    "        print(\"The given number is a happy number.\")\n",
    "    else:\n",
    "        print(\"The given number is not a happy number.\")"
   ]
  },
  {
   "cell_type": "code",
   "execution_count": 15,
   "metadata": {},
   "outputs": [
    {
     "name": "stdout",
     "output_type": "stream",
     "text": [
      "Enter the number to check happy number or not: 10\n",
      "The given number is a happy number.\n"
     ]
    }
   ],
   "source": [
    "happyNumberChecker()"
   ]
  },
  {
   "cell_type": "code",
   "execution_count": 16,
   "metadata": {},
   "outputs": [
    {
     "name": "stdout",
     "output_type": "stream",
     "text": [
      "Enter the number to check happy number or not: 17\n",
      "The given number is not a happy number.\n"
     ]
    }
   ],
   "source": [
    "happyNumberChecker()"
   ]
  },
  {
   "cell_type": "markdown",
   "metadata": {},
   "source": [
    "## 4.Write a Python Program to print all Happy numbers between 1 and 100 ?"
   ]
  },
  {
   "cell_type": "code",
   "execution_count": 29,
   "metadata": {},
   "outputs": [
    {
     "name": "stdout",
     "output_type": "stream",
     "text": [
      "Enter the start range:1\n",
      "Enter the end range:100\n",
      "[1, 7, 10, 13, 19, 23, 28, 31, 32, 44, 49, 68, 70, 79, 82, 86, 91, 94, 97, 100]\n"
     ]
    }
   ],
   "source": [
    "def happyNumberList(n):\n",
    "    seen = set()\n",
    "    while n not in seen:\n",
    "        seen.add(n)\n",
    "        n = sum(int(i)**2 for i in str(n))\n",
    "    return n == 1\n",
    "happyNumberList=[]\n",
    "SR=int(input(\"Enter the start range:\"))\n",
    "ER=int(input(\"Enter the end range:\"))\n",
    "for i in range(SR, ER+1):\n",
    "    if is_happy(i):\n",
    "        happyNumberList.append(i)\n",
    "print(happyNumberList)"
   ]
  },
  {
   "cell_type": "markdown",
   "metadata": {},
   "source": [
    "## 5.Write a Python Program to determine whether the given number is a Harshad Number ?"
   ]
  },
  {
   "cell_type": "code",
   "execution_count": 32,
   "metadata": {},
   "outputs": [],
   "source": [
    "def harshadNumber():\n",
    "    \"\"\"Examples. The number 18 is a harshad number in base 10, because the sum of the digits 1 and 8 is 9 (1 + 8 = 9),\n",
    "    and 18 is divisible by 9. The Hardy–Ramanujan number (1729) is a harshad number in base 10, since it is divisible by 19, the sum of its digits (1729 = 19 × 91).\n",
    "    \"\"\"\n",
    "    num = input('Enter a Number: ')\n",
    "    sum = 0\n",
    "    for i in range(len(num)):\n",
    "        sum = sum + int(num[i])\n",
    "    if int(num)%sum == 0:\n",
    "        print(f'{num} is a Harshad Number')\n",
    "    else:\n",
    "        print(f'{num} is a Not Harshad Number')"
   ]
  },
  {
   "cell_type": "code",
   "execution_count": 33,
   "metadata": {},
   "outputs": [
    {
     "name": "stdout",
     "output_type": "stream",
     "text": [
      "Enter a Number: 18\n",
      "18 is a Harshad Number\n"
     ]
    }
   ],
   "source": [
    "harshadNumber()"
   ]
  },
  {
   "cell_type": "code",
   "execution_count": 34,
   "metadata": {},
   "outputs": [
    {
     "name": "stdout",
     "output_type": "stream",
     "text": [
      "Enter a Number: 19\n",
      "19 is a Not Harshad Number\n"
     ]
    }
   ],
   "source": [
    "harshadNumber()"
   ]
  },
  {
   "cell_type": "markdown",
   "metadata": {},
   "source": [
    "## 6.Write a Python Program to print all pronic numbers between 1 and 100 ?"
   ]
  },
  {
   "cell_type": "code",
   "execution_count": 35,
   "metadata": {},
   "outputs": [],
   "source": [
    "def pronicNumbers():\n",
    "    \"\"\"A pronic number is a number that is the product of two consecutive integers, that is, a number of the form n(n+1)\n",
    "    \"\"\"\n",
    "    SR=int(input(\"Enter the start range:\"))\n",
    "    ER=int(input(\"Enter the end range:\"))\n",
    "    outputList = []\n",
    "    for i in range(SR,ER+1):\n",
    "        outputList.append((i)*(i+1))\n",
    "    print(outputList)"
   ]
  },
  {
   "cell_type": "code",
   "execution_count": 36,
   "metadata": {},
   "outputs": [
    {
     "name": "stdout",
     "output_type": "stream",
     "text": [
      "Enter the start range:1\n",
      "Enter the end range:100\n",
      "[2, 6, 12, 20, 30, 42, 56, 72, 90, 110, 132, 156, 182, 210, 240, 272, 306, 342, 380, 420, 462, 506, 552, 600, 650, 702, 756, 812, 870, 930, 992, 1056, 1122, 1190, 1260, 1332, 1406, 1482, 1560, 1640, 1722, 1806, 1892, 1980, 2070, 2162, 2256, 2352, 2450, 2550, 2652, 2756, 2862, 2970, 3080, 3192, 3306, 3422, 3540, 3660, 3782, 3906, 4032, 4160, 4290, 4422, 4556, 4692, 4830, 4970, 5112, 5256, 5402, 5550, 5700, 5852, 6006, 6162, 6320, 6480, 6642, 6806, 6972, 7140, 7310, 7482, 7656, 7832, 8010, 8190, 8372, 8556, 8742, 8930, 9120, 9312, 9506, 9702, 9900, 10100]\n"
     ]
    }
   ],
   "source": [
    "pronicNumbers()"
   ]
  }
 ],
 "metadata": {
  "kernelspec": {
   "display_name": "Python 3",
   "language": "python",
   "name": "python3"
  },
  "language_info": {
   "codemirror_mode": {
    "name": "ipython",
    "version": 3
   },
   "file_extension": ".py",
   "mimetype": "text/x-python",
   "name": "python",
   "nbconvert_exporter": "python",
   "pygments_lexer": "ipython3",
   "version": "3.8.5"
  }
 },
 "nbformat": 4,
 "nbformat_minor": 4
}
