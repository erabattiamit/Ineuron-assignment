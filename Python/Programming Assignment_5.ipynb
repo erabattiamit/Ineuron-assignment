{
 "cells": [
  {
   "cell_type": "markdown",
   "metadata": {},
   "source": [
    "# Python Basic Programming Assignment - 5"
   ]
  },
  {
   "cell_type": "markdown",
   "metadata": {},
   "source": [
    "## 1. Write a Python Program to Find LCM?"
   ]
  },
  {
   "cell_type": "code",
   "execution_count": 1,
   "metadata": {},
   "outputs": [],
   "source": [
    "def leastCommonMultiple():\n",
    "    \"\"\"Least Common Multiple(LCM) is a method to find the smallest common multiple between any two or more numbers. \n",
    "    A common multiple is a number which is a multiple of two or more numbers.\n",
    "    \"\"\"\n",
    "    a=int(input(\"Enter first no. : \"))\n",
    "    b=int(input(\"Enter second no. : \"))\n",
    "    \n",
    "    if(a>b):\n",
    "        num=a\n",
    "    else:\n",
    "        num=b\n",
    "\n",
    "    # the loop for finding lcm    \n",
    "    while (True):\n",
    "        if(num%a==0 and num%b==0):\n",
    "\n",
    "            print(f\"\\n LCM of {a} and {b} is\", num)\n",
    "            break\n",
    "        else:\n",
    "            num=num+1"
   ]
  },
  {
   "cell_type": "code",
   "execution_count": 2,
   "metadata": {},
   "outputs": [
    {
     "name": "stdout",
     "output_type": "stream",
     "text": [
      "Enter first no. : 24\n",
      "Enter second no. : 15\n",
      "\n",
      " LCM of 24 and 15 is 120\n"
     ]
    }
   ],
   "source": [
    "leastCommonMultiple()"
   ]
  },
  {
   "cell_type": "markdown",
   "metadata": {},
   "source": [
    "## 2. Write a Python Program to Find HCF?"
   ]
  },
  {
   "cell_type": "code",
   "execution_count": 3,
   "metadata": {},
   "outputs": [],
   "source": [
    "def HCF():\n",
    "    \"\"\"The full form of HCF is Highest Common Factor. HCF of two numbers is the highest factor that can divide the two \n",
    "    numbers, evenly. HCF can be evaluated for two or more than two numbers.  It is the greatest divisor for any two or \n",
    "    more numbers, that can equally or completely divide the given numbers.\n",
    "    \"\"\"\n",
    "    a=int(input(\"Enter first no. : \")) \n",
    "    b=int(input(\"Enter second no. : \")) \n",
    "\n",
    "    if(a<b):\n",
    "        num=a\n",
    "    else:\n",
    "        num=b              \n",
    "\n",
    "    while (True):\n",
    "        if(a%num==0 and b%num==0):         \n",
    "\n",
    "            print(f\"\\n HCM of {a} and {b} is\", num)\n",
    "            break\n",
    "        else:\n",
    "            num=num-1 "
   ]
  },
  {
   "cell_type": "code",
   "execution_count": 4,
   "metadata": {},
   "outputs": [
    {
     "name": "stdout",
     "output_type": "stream",
     "text": [
      "Enter first no. : 60\n",
      "Enter second no. : 75\n",
      "\n",
      " HCM of 60 and 75 is 15\n"
     ]
    }
   ],
   "source": [
    "HCF()"
   ]
  },
  {
   "cell_type": "markdown",
   "metadata": {},
   "source": [
    "## 3. Write a Python Program to Convert Decimal to Binary, Octal and Hexadecimal?"
   ]
  },
  {
   "cell_type": "code",
   "execution_count": 8,
   "metadata": {},
   "outputs": [],
   "source": [
    "def decimalConvertor():\n",
    "    \"\"\"A number system is defined as a system of writing to express numbers. It is the mathematical notation for \n",
    "    representing numbers of a given set by using digits or other symbols in a consistent manner. It provides a unique \n",
    "    representation of every number and represents the arithmetic and algebraic structure of the figures. It also allows us \n",
    "    to operate arithmetic operations like addition, subtraction, multiplication and division.\n",
    "\n",
    "    The value of any digit in a number can be determined by:\n",
    "\n",
    "    The digit\n",
    "    Its position in the number\n",
    "    The base of the number system\n",
    "    \n",
    "    Types of Number Systems\n",
    "    There are various types of number systems in mathematics. The four most common number system types are:\n",
    "\n",
    "    Decimal number system (Base- 10)\n",
    "    Binary number system (Base- 2)\n",
    "    Octal number system (Base-8)\n",
    "    Hexadecimal number system (Base- 16)\n",
    "    \"\"\"\n",
    "    \n",
    "    num = int(input('Enter a decimal number: '))\n",
    "    print(f'\\n Decimal number {num} to Binary Number :- {bin(num)}')\n",
    "    print(f'\\n Decimal number {num} to Octal Number :- {oct(num)}')    \n",
    "    print(f'\\n Decimal number {num} to Hexadecimal Number :- {hex(num)}')  "
   ]
  },
  {
   "cell_type": "code",
   "execution_count": 9,
   "metadata": {},
   "outputs": [
    {
     "name": "stdout",
     "output_type": "stream",
     "text": [
      "Enter a decimal number: 14\n",
      "\n",
      " Decimal number 14 to Binary Number :- 0b1110\n",
      "\n",
      " Decimal number 14 to Octal Number :- 0o16\n",
      "\n",
      " Decimal number 14 to Hexadecimal Number :- 0xe\n"
     ]
    }
   ],
   "source": [
    "decimalConvertor()"
   ]
  },
  {
   "cell_type": "markdown",
   "metadata": {},
   "source": [
    "## 4. Write a Python Program to Find the ASCII value of a Character ?"
   ]
  },
  {
   "cell_type": "code",
   "execution_count": 10,
   "metadata": {},
   "outputs": [],
   "source": [
    "def charToASCII():\n",
    "    \"\"\"The full form of ASCII is the American Standard Code for Information Interchange.\n",
    "     a standard data-encoding format for electronic communication between computers. ASCII assigns standard numeric \n",
    "     values to letters, numerals, punctuation marks, and other characters used in computers.\n",
    "    \"\"\"\n",
    "    char = input('Enter a Character: ')\n",
    "    if len(char) > 1:\n",
    "        print('Please Enter a Single Character')\n",
    "    else:\n",
    "        #Python ord() function takes string argument of a single Unicode character and return its integer Unicode code \n",
    "        #point value.\n",
    "        print(f'Ascii Character of {char} is {ord(char)}')"
   ]
  },
  {
   "cell_type": "code",
   "execution_count": 12,
   "metadata": {},
   "outputs": [
    {
     "name": "stdout",
     "output_type": "stream",
     "text": [
      "Enter a Character: S\n",
      "Ascii Character of S is 83\n"
     ]
    }
   ],
   "source": [
    "charToASCII()"
   ]
  },
  {
   "cell_type": "markdown",
   "metadata": {},
   "source": [
    "### 5.Write a Python Program to Make a Simple Calculator with 4 Basic Mathematical operations ?"
   ]
  },
  {
   "cell_type": "code",
   "execution_count": 13,
   "metadata": {},
   "outputs": [
    {
     "name": "stdout",
     "output_type": "stream",
     "text": [
      "Select a Arithmetic Operation:         \n",
      "1.Addition(+)        \n",
      "2.Division(-)        \n",
      "2.Multiplication(*)        \n",
      "4.Division(/)        \n",
      "3.Stop(0)\n",
      "\n",
      "Enter a arithmetic operation -> +\n",
      "\n",
      "Enter 1st Number: 10\n",
      "Enter 2nd Number: 9\n",
      "10+9=19\n",
      "\n",
      "Enter a arithmetic operation -> -\n",
      "\n",
      "Enter 1st Number: 19\n",
      "Enter 2nd Number: 3\n",
      "19-3=16\n",
      "\n",
      "Enter a arithmetic operation -> *\n",
      "\n",
      "Enter 1st Number: 16\n",
      "Enter 2nd Number: 1\n",
      "16*1=16\n",
      "\n",
      "Enter a arithmetic operation -> /\n",
      "\n",
      "Enter 1st Number: 14\n",
      "Enter 2nd Number: 2\n",
      "14/2=7.0\n",
      "\n",
      "Enter a arithmetic operation -> 0\n",
      "Program Stopped successfully\n"
     ]
    }
   ],
   "source": [
    "import operator\n",
    "\n",
    "ops = { \"+\": operator.add, \"-\": operator.sub, \"*\":operator.mul, \"/\":operator.truediv } \n",
    "\n",
    "print('Select a Arithmetic Operation: \\\n",
    "        \\n1.Addition(+)\\\n",
    "        \\n2.Division(-)\\\n",
    "        \\n2.Multiplication(*)\\\n",
    "        \\n4.Division(/)\\\n",
    "        \\n3.Stop(0)\\n')\n",
    "   \n",
    "\n",
    "while True:\n",
    "    operator = input('Enter a arithmetic operation -> ')\n",
    "    if operator == '0':\n",
    "        print(\"Program Stopped successfully\")\n",
    "        break\n",
    "    elif operator not in ['+','-','*','/']:\n",
    "        print(\"Please enter a valid operator\")\n",
    "    else:\n",
    "        num_1 = int(input('\\nEnter 1st Number: '))\n",
    "        num_2 = int(input('Enter 2nd Number: '))\n",
    "        print(f'{num_1}{operator}{num_2}={ops[operator](num_1,num_2)}\\n')"
   ]
  }
 ],
 "metadata": {
  "kernelspec": {
   "display_name": "Python 3",
   "language": "python",
   "name": "python3"
  },
  "language_info": {
   "codemirror_mode": {
    "name": "ipython",
    "version": 3
   },
   "file_extension": ".py",
   "mimetype": "text/x-python",
   "name": "python",
   "nbconvert_exporter": "python",
   "pygments_lexer": "ipython3",
   "version": "3.8.5"
  }
 },
 "nbformat": 4,
 "nbformat_minor": 4
}
