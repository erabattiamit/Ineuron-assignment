{
 "cells": [
  {
   "cell_type": "markdown",
   "metadata": {},
   "source": [
    "# Programming Basic Assignment 7"
   ]
  },
  {
   "cell_type": "markdown",
   "metadata": {},
   "source": [
    "## 1. Write a Python Program to find sum of array?"
   ]
  },
  {
   "cell_type": "code",
   "execution_count": 19,
   "metadata": {},
   "outputs": [],
   "source": [
    "import numpy as np\n",
    "\n",
    "def sumOfArray():\n",
    "    \n",
    "    # taking nuber of elements in array\n",
    "    a=int(input(\"Number of elements in the array:-\"))\n",
    "    print(\"Please give space after every number.\\n for eg., 1 12 3 \\n\")\n",
    "    \n",
    "    #splits the string into a list of strings, using spaces as the delimiter. The strip() method removes any leading/trailing whitespaces.\n",
    "    #maps the function int over each element of the list of strings, converting them into integers.\n",
    "    arr=list(map(int, input(\"elements of array:-\").strip().split()))\n",
    "    \n",
    "    #converting list to array\n",
    "    my_array = np.array(arr)\n",
    "    print(f'\\nThe array is',my_array)\n",
    "    print(type(my_array))\n",
    "    sum=0\n",
    "    for i in arr:\n",
    "        sum+=i\n",
    "    print(f'\\nThe sum of {arr} is {sum}')"
   ]
  },
  {
   "cell_type": "code",
   "execution_count": 20,
   "metadata": {},
   "outputs": [
    {
     "name": "stdout",
     "output_type": "stream",
     "text": [
      "Number of elements in the array:-3\n",
      "Please give space after every number.\n",
      " for eg., 1 12 3 \n",
      "\n",
      "elements of array:-19 16 13\n",
      "\n",
      "The array is [19 16 13]\n",
      "<class 'numpy.ndarray'>\n",
      "\n",
      "The sum of [19, 16, 13] is 48\n"
     ]
    }
   ],
   "source": [
    "sumOfArray()"
   ]
  },
  {
   "cell_type": "markdown",
   "metadata": {},
   "source": [
    "## 2. Write a Python Program to find Largest element in an Array ?"
   ]
  },
  {
   "cell_type": "code",
   "execution_count": 30,
   "metadata": {},
   "outputs": [],
   "source": [
    "import numpy as np\n",
    "\n",
    "def largestElementOfArray():\n",
    "    \n",
    "    # taking nuber of elements in array\n",
    "    a=int(input(\"Number of elements in the array:-\"))\n",
    "    print(\"Please give space after every number.\\n for eg., 1 12 3 \\n\")\n",
    "    \n",
    "    #splits the string into a list of strings, using spaces as the delimiter. The strip() method removes any leading/trailing whitespaces.\n",
    "    #maps the function int over each element of the list of strings, converting them into integers.\n",
    "    arr=list(map(int, input(\"elements of array:-\").strip().split()))\n",
    "    \n",
    "    #converting list to array\n",
    "    my_array = np.array(arr)\n",
    "    print(f'\\nThe array is',my_array)\n",
    "    print(type(my_array))\n",
    "    \n",
    "    #assign the first element of array\n",
    "    largest=my_array[0]\n",
    "    \n",
    "    #Loop through the array    \n",
    "    for i in range(0, len(my_array)):    \n",
    "    #Compare elements of array with max    \n",
    "        if(my_array[i] > largest):    \n",
    "            largest = arr[i];    \n",
    "           \n",
    "    print(f\"\\nLargest element present in given array {my_array} is : \", largest);  "
   ]
  },
  {
   "cell_type": "code",
   "execution_count": 31,
   "metadata": {},
   "outputs": [
    {
     "name": "stdout",
     "output_type": "stream",
     "text": [
      "Number of elements in the array:-3\n",
      "Please give space after every number.\n",
      " for eg., 1 12 3 \n",
      "\n",
      "elements of array:-19 16 13 \n",
      "\n",
      "The array is [19 16 13]\n",
      "<class 'numpy.ndarray'>\n",
      "\n",
      "Largest element present in given array [19 16 13] is :  19\n"
     ]
    }
   ],
   "source": [
    "largestElementOfArray()"
   ]
  },
  {
   "cell_type": "markdown",
   "metadata": {},
   "source": [
    "## 3. Write a Python Program for array rotation ?"
   ]
  },
  {
   "cell_type": "code",
   "execution_count": 32,
   "metadata": {},
   "outputs": [],
   "source": [
    "def reverseOfArray():\n",
    "    \n",
    "    # taking nuber of elements in array\n",
    "    a=int(input(\"Number of elements in the array:-\"))\n",
    "    print(\"Please give space after every number.\\n for eg., 1 12 3 \\n\")\n",
    "    \n",
    "    #splits the string into a list of strings, using spaces as the delimiter. The strip() method removes any leading/trailing whitespaces.\n",
    "    #maps the function int over each element of the list of strings, converting them into integers.\n",
    "    arr=list(map(int, input(\"elements of array:-\").strip().split()))\n",
    "    \n",
    "    #converting list to array\n",
    "    my_array = np.array(arr)\n",
    "    print(f'\\nThe array is',my_array)\n",
    "    print(type(my_array))\n",
    "    \n",
    "    print(f\"The Reverse of Array {my_array} is {my_array[::-1]}\")"
   ]
  },
  {
   "cell_type": "code",
   "execution_count": 33,
   "metadata": {},
   "outputs": [
    {
     "name": "stdout",
     "output_type": "stream",
     "text": [
      "Number of elements in the array:-3\n",
      "Please give space after every number.\n",
      " for eg., 1 12 3 \n",
      "\n",
      "elements of array:-19 16 13\n",
      "\n",
      "The array is [19 16 13]\n",
      "<class 'numpy.ndarray'>\n",
      "The Reverse of Array [19 16 13] is [13 16 19]\n"
     ]
    }
   ],
   "source": [
    "reverseOfArray()"
   ]
  },
  {
   "cell_type": "markdown",
   "metadata": {},
   "source": [
    "## 4. Write a Python Program to Split the array and add the first part to the end ?"
   ]
  },
  {
   "cell_type": "code",
   "execution_count": 34,
   "metadata": {},
   "outputs": [],
   "source": [
    "def addFirstEndElement():\n",
    "        # taking nuber of elements in array\n",
    "    a=int(input(\"Number of elements in the array:-\"))\n",
    "    print(\"Please give space after every number.\\n for eg., 1 12 3 \\n\")\n",
    "    \n",
    "    #splits the string into a list of strings, using spaces as the delimiter. The strip() method removes any leading/trailing whitespaces.\n",
    "    #maps the function int over each element of the list of strings, converting them into integers.\n",
    "    arr=list(map(int, input(\"elements of array:-\").strip().split()))\n",
    "    \n",
    "    #converting list to array\n",
    "    my_array = np.array(arr)\n",
    "    print(f'\\nThe array is',my_array)\n",
    "    print(type(my_array))\n",
    "    \n",
    "    print(f\"The Sum of First and Last Elements of Array {my_array} is {my_array[0]+my_array[-1]}\")"
   ]
  },
  {
   "cell_type": "code",
   "execution_count": 35,
   "metadata": {},
   "outputs": [
    {
     "name": "stdout",
     "output_type": "stream",
     "text": [
      "Number of elements in the array:-3\n",
      "Please give space after every number.\n",
      " for eg., 1 12 3 \n",
      "\n",
      "elements of array:-19 16 13\n",
      "\n",
      "The array is [19 16 13]\n",
      "<class 'numpy.ndarray'>\n",
      "The Sum of First and Last Elements of Array [19 16 13] is 32\n"
     ]
    }
   ],
   "source": [
    "addFirstEndElement()"
   ]
  },
  {
   "cell_type": "markdown",
   "metadata": {},
   "source": [
    "## 5. Write a Python Program to check if given array is Monotonic?"
   ]
  },
  {
   "cell_type": "code",
   "execution_count": 51,
   "metadata": {},
   "outputs": [],
   "source": [
    "def monotonicArrayChecker():\n",
    "    \"\"\"An array is said to be monotonic in nature if it is either continuously increasing or continuously decreasing. \n",
    "    \"\"\"\n",
    "    # taking nuber of elements in array\n",
    "    a=int(input(\"Number of elements in the array:-\"))\n",
    "    print(\"Please give space after every number.\\n for eg., 1 12 3 \\n\")\n",
    "    \n",
    "    #splits the string into a list of strings, using spaces as the delimiter. The strip() method removes any leading/trailing whitespaces.\n",
    "    #maps the function int over each element of the list of strings, converting them into integers.\n",
    "    arr=list(map(int, input(\"elements of array:-\").strip().split()))\n",
    "    \n",
    "    #converting list to array\n",
    "    my_array = np.array(arr)\n",
    "    print(f'\\nThe array is',my_array)\n",
    "    print(type(my_array))\n",
    "    \n",
    "    #Checking the array is in increasing or decreasing order\n",
    "    \n",
    "    if(all(my_array[i]<=my_array[i+1] for i in range(len(my_array)-1)) \n",
    "#checks if the list is strictly increasing. \n",
    "#It uses a generator expression in_arr[i]<=in_arr[i+1] for i in range(len(in_arr)-1) to compare each element with the next\n",
    "#element. The all() function returns True if all elements in the generator expression are true, which means the list is \n",
    "#strictly increasing.\n",
    "       \n",
    "       or all(my_array[i]>=my_array[i+1] for i in range(len(my_array)-1))):\n",
    "#checks if the list is strictly decreasing. It uses a similar generator expression as the first condition, but with the\n",
    "#comparison operator >= instead of <=. The all() function returns True if all elements in the generator expression are true,\n",
    "#which means the list is strictly decreasing.\n",
    "\n",
    "#Finally, the two conditions are connected with the logical OR operator or, so that if either of the conditions is true, \n",
    "#the overall expression will return True.\n",
    "\n",
    "        print(f'Array {my_array} is Monotonic')\n",
    "    else:\n",
    "        print(f'Array {my_array} is Not Monotonic')\n"
   ]
  },
  {
   "cell_type": "code",
   "execution_count": 52,
   "metadata": {},
   "outputs": [
    {
     "name": "stdout",
     "output_type": "stream",
     "text": [
      "Number of elements in the array:-3\n",
      "Please give space after every number.\n",
      " for eg., 1 12 3 \n",
      "\n",
      "elements of array:-19 16 13\n",
      "\n",
      "The array is [19 16 13]\n",
      "<class 'numpy.ndarray'>\n",
      "Array [19 16 13] is Monotonic\n"
     ]
    }
   ],
   "source": [
    "monotonicArrayChecker()"
   ]
  },
  {
   "cell_type": "code",
   "execution_count": 53,
   "metadata": {},
   "outputs": [
    {
     "name": "stdout",
     "output_type": "stream",
     "text": [
      "Number of elements in the array:-3\n",
      "Please give space after every number.\n",
      " for eg., 1 12 3 \n",
      "\n",
      "elements of array:-13 16 19\n",
      "\n",
      "The array is [13 16 19]\n",
      "<class 'numpy.ndarray'>\n",
      "Array [13 16 19] is Monotonic\n"
     ]
    }
   ],
   "source": [
    "monotonicArrayChecker()"
   ]
  },
  {
   "cell_type": "code",
   "execution_count": 54,
   "metadata": {},
   "outputs": [
    {
     "name": "stdout",
     "output_type": "stream",
     "text": [
      "Number of elements in the array:-3\n",
      "Please give space after every number.\n",
      " for eg., 1 12 3 \n",
      "\n",
      "elements of array:-19 13 16\n",
      "\n",
      "The array is [19 13 16]\n",
      "<class 'numpy.ndarray'>\n",
      "Array [19 13 16] is Not Monotonic\n"
     ]
    }
   ],
   "source": [
    "monotonicArrayChecker()"
   ]
  }
 ],
 "metadata": {
  "kernelspec": {
   "display_name": "Python 3",
   "language": "python",
   "name": "python3"
  },
  "language_info": {
   "codemirror_mode": {
    "name": "ipython",
    "version": 3
   },
   "file_extension": ".py",
   "mimetype": "text/x-python",
   "name": "python",
   "nbconvert_exporter": "python",
   "pygments_lexer": "ipython3",
   "version": "3.8.5"
  }
 },
 "nbformat": 4,
 "nbformat_minor": 4
}
