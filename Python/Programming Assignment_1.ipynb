{
 "cells": [
  {
   "cell_type": "markdown",
   "metadata": {},
   "source": [
    "# Programming Assignment_1"
   ]
  },
  {
   "cell_type": "markdown",
   "metadata": {},
   "source": [
    "## 1. Write a Python program to print \"Hello Python\"?"
   ]
  },
  {
   "cell_type": "code",
   "execution_count": 1,
   "metadata": {},
   "outputs": [
    {
     "name": "stdout",
     "output_type": "stream",
     "text": [
      "Hello Python\n"
     ]
    }
   ],
   "source": [
    "print(\"Hello Python\")"
   ]
  },
  {
   "cell_type": "markdown",
   "metadata": {},
   "source": [
    "## 2. Write a Python program to do arithmetical operations addition and division.?"
   ]
  },
  {
   "cell_type": "code",
   "execution_count": 3,
   "metadata": {},
   "outputs": [],
   "source": [
    "import numpy as np"
   ]
  },
  {
   "cell_type": "code",
   "execution_count": 30,
   "metadata": {},
   "outputs": [
    {
     "name": "stdout",
     "output_type": "stream",
     "text": [
      "Enter the Operation you like to perform\n",
      "Select any one operator '+'for addition and '/' for division : +\n",
      "\n",
      "\n",
      "Selected operator is '+'for addition. \n",
      "Enter the value of x to add:12\n",
      "Enter the value of y to add:12\n",
      "\n",
      "\n",
      "Additon of x and y is:-   24\n"
     ]
    }
   ],
   "source": [
    "print(\"Enter the Operation you like to perform\")\n",
    "operators= input(\"Select any one operator '+'for addition and '/' for division : \")\n",
    "\n",
    "print(\"\\n\")\n",
    "result=0 # for storing the result of selected operator\n",
    "\n",
    "# Addition\n",
    "if operators ==\"+\":\n",
    "    print(\"Selected operator is '+'for addition. \")\n",
    "    x =int(input(\"Enter the value of x to add:\"))\n",
    "    y =int(input(\"Enter the value of y to add:\"))\n",
    "    print(\"\\n\")\n",
    "    result = x + y\n",
    "    print(\"Additon of x and y is:-  \",result)\n",
    "    \n",
    "# Division\n",
    "elif operators == \"/\":\n",
    "    print(\"Selected operator is '/'for division. \")\n",
    "    a =int(input(\"Enter the value of Dividend (numerator):\"))\n",
    "    b =int(input(\"Enter the value of Divisor (denominator):\"))\n",
    "    print(\"\\n\")\n",
    "    result = a / b\n",
    "    print(\"Quotient is:-  \",result)\n",
    "else :\n",
    "    print(\"Not a valid operator for this program\")"
   ]
  },
  {
   "cell_type": "markdown",
   "metadata": {},
   "source": [
    "## 3.Write a Python program to find the area of a triangle ?"
   ]
  },
  {
   "cell_type": "code",
   "execution_count": 18,
   "metadata": {},
   "outputs": [],
   "source": [
    "def areaOfTriangle():\n",
    "    \"\"\"The area of a triangle is defined as the total region that is enclosed by the three sides of any particular triangle. Basically, it is equal to half of the base times height, i.e. A = 1/2 × b × h. Hence, to find the area of a tri-sided polygon, we have to know the base (b) and height (h) of it. It is applicable to all types of triangles, whether it is scalene, isosceles or equilateral. To be noted, the base and height of the triangle are perpendicular to each other.\n",
    "    \"\"\"\n",
    "    \n",
    "    height =int(input(\"Enter the height of a triangle:\"))\n",
    "    base =int(input(\"Enter the base of a triangle:\"))\n",
    "\n",
    "    area_of_triangle=0.5*base*height\n",
    "\n",
    "    print(\"The area of triangle is\",area_of_triangle)"
   ]
  },
  {
   "cell_type": "code",
   "execution_count": 19,
   "metadata": {},
   "outputs": [
    {
     "name": "stdout",
     "output_type": "stream",
     "text": [
      "Enter the height of a triangle:10\n",
      "Enter the base of a triangle:12\n",
      "The area of triangle is 60.0\n"
     ]
    }
   ],
   "source": [
    "areaOfTriangle()"
   ]
  },
  {
   "cell_type": "markdown",
   "metadata": {},
   "source": [
    "## 4. Write a Python program to swap two variables?"
   ]
  },
  {
   "cell_type": "code",
   "execution_count": 22,
   "metadata": {},
   "outputs": [
    {
     "name": "stdout",
     "output_type": "stream",
     "text": [
      "Enter the number for a:19\n",
      "Enter the number for b:16\n",
      "\n",
      "\n",
      "The value of a and b after swap \n",
      "The value of a:  16\n",
      "The value of b:  19\n"
     ]
    }
   ],
   "source": [
    "a =int(input(\"Enter the number for a:\"))\n",
    "b =int(input(\"Enter the number for b:\"))\n",
    "print(\"\\n\")\n",
    "print(\"The value of a and b after swap \")\n",
    "temp=a # to store value of a\n",
    "a=b    # to store value of b in a\n",
    "b=temp # now assign the value of temp(which is actually a value of \"a\")\n",
    "print(\"The value of a: \", a)\n",
    "print(\"The value of b: \", b)"
   ]
  },
  {
   "cell_type": "markdown",
   "metadata": {},
   "source": [
    "## 5. Write a Python program to generate a random number?"
   ]
  },
  {
   "cell_type": "code",
   "execution_count": 23,
   "metadata": {},
   "outputs": [],
   "source": [
    "from random import randint\n",
    "\n",
    "def generateRandomNumber(start=0, end=100000): # giving the start and end range for generating random number\n",
    "    print('Random number: ',randint(start,end))"
   ]
  },
  {
   "cell_type": "code",
   "execution_count": 24,
   "metadata": {},
   "outputs": [
    {
     "name": "stdout",
     "output_type": "stream",
     "text": [
      "Random number:  67297\n"
     ]
    }
   ],
   "source": [
    "generateRandomNumber() "
   ]
  },
  {
   "cell_type": "code",
   "execution_count": 25,
   "metadata": {},
   "outputs": [
    {
     "name": "stdout",
     "output_type": "stream",
     "text": [
      "Random number:  11\n"
     ]
    }
   ],
   "source": [
    "generateRandomNumber(1,20) #giving range to generate a number inside the range"
   ]
  }
 ],
 "metadata": {
  "kernelspec": {
   "display_name": "Python 3",
   "language": "python",
   "name": "python3"
  },
  "language_info": {
   "codemirror_mode": {
    "name": "ipython",
    "version": 3
   },
   "file_extension": ".py",
   "mimetype": "text/x-python",
   "name": "python",
   "nbconvert_exporter": "python",
   "pygments_lexer": "ipython3",
   "version": "3.8.5"
  }
 },
 "nbformat": 4,
 "nbformat_minor": 4
}
